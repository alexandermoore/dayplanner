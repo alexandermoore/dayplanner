{
 "cells": [
  {
   "cell_type": "code",
   "execution_count": 3,
   "metadata": {
    "collapsed": false
   },
   "outputs": [
    {
     "name": "stdout",
     "output_type": "stream",
     "text": [
      "The autoreload extension is already loaded. To reload it, use:\n",
      "  %reload_ext autoreload\n"
     ]
    }
   ],
   "source": [
    "%load_ext autoreload\n",
    "%autoreload 2\n",
    "from IPython.core.display import display, HTML\n",
    "\n",
    "from api.yelp.yelp import YelpAPI\n",
    "from algo import *\n",
    "from utils import *\n",
    "from constraints import *\n",
    "from plan import *\n",
    "from shortcuts import *\n",
    "import datetime\n",
    "import time\n",
    "import pytz\n",
    "import dateutil.parser"
   ]
  },
  {
   "cell_type": "code",
   "execution_count": 4,
   "metadata": {
    "collapsed": true
   },
   "outputs": [],
   "source": [
    "CAT_FILE = 'api/yelp/yelpcategories.json'\n",
    "with open('api/yelp/yelpkey.txt', 'r') as f:\n",
    "    API_KEY = f.read().strip()\n",
    "api = YelpAPI(API_KEY, CAT_FILE)"
   ]
  },
  {
   "cell_type": "code",
   "execution_count": 5,
   "metadata": {
    "collapsed": false
   },
   "outputs": [
    {
     "name": "stdout",
     "output_type": "stream",
     "text": [
      "20 businesses left. Found 20  just now.\n",
      "20 businesses left. Found 20  just now.\n",
      "{'b5': {'name': 'Excellent Dumpling House', 'id': '7ZQSMqWzvXMSetXnii2fBg', 'hours': [{'open': [{'end': '2230', 'day': 0, 'start': '1100', 'is_overnight': False}, {'end': '2230', 'day': 1, 'start': '1100', 'is_overnight': False}, {'end': '2230', 'day': 2, 'start': '1100', 'is_overnight': False}, {'end': '2230', 'day': 3, 'start': '1100', 'is_overnight': False}, {'end': '2300', 'day': 4, 'start': '1100', 'is_overnight': False}, {'end': '2300', 'day': 5, 'start': '1100', 'is_overnight': False}, {'end': '2230', 'day': 6, 'start': '1100', 'is_overnight': False}], 'is_open_now': True}]}, 'b4': {'name': 'Tim Ho Wan', 'id': 'SyvC0s3y0ZrtnLbwnvw7tw', 'hours': [{'open': [{'end': '2200', 'day': 0, 'start': '1000', 'is_overnight': False}, {'end': '2200', 'day': 1, 'start': '1000', 'is_overnight': False}, {'end': '2200', 'day': 2, 'start': '1000', 'is_overnight': False}, {'end': '2200', 'day': 3, 'start': '1000', 'is_overnight': False}, {'end': '2300', 'day': 4, 'start': '1000', 'is_overnight': False}, {'end': '2300', 'day': 5, 'start': '1000', 'is_overnight': False}, {'end': '2200', 'day': 6, 'start': '1000', 'is_overnight': False}], 'is_open_now': True}]}, 'b12': {'name': 'Café China', 'id': 'xq0cX_DgxiJMXwhmEl9kUA', 'hours': [{'open': [{'end': '2200', 'day': 0, 'start': '1100', 'is_overnight': False}, {'end': '2200', 'day': 1, 'start': '1100', 'is_overnight': False}, {'end': '2200', 'day': 2, 'start': '1100', 'is_overnight': False}, {'end': '2230', 'day': 3, 'start': '1100', 'is_overnight': False}, {'end': '2230', 'day': 4, 'start': '1100', 'is_overnight': False}, {'end': '2230', 'day': 5, 'start': '1100', 'is_overnight': False}, {'end': '2200', 'day': 6, 'start': '1100', 'is_overnight': False}], 'is_open_now': True}]}, 'b6': {'name': 'The Bao', 'id': 'SNhDVaf_n7VDZcfry8mYdA', 'hours': [{'open': [{'end': '2230', 'day': 0, 'start': '1130', 'is_overnight': False}, {'end': '2230', 'day': 1, 'start': '1130', 'is_overnight': False}, {'end': '2230', 'day': 2, 'start': '1130', 'is_overnight': False}, {'end': '2330', 'day': 3, 'start': '1130', 'is_overnight': False}, {'end': '2330', 'day': 4, 'start': '1130', 'is_overnight': False}, {'end': '2330', 'day': 5, 'start': '1130', 'is_overnight': False}, {'end': '2230', 'day': 6, 'start': '1130', 'is_overnight': False}], 'is_open_now': True}]}, 'b2': {'name': 'Han Dynasty', 'id': 'wfhMIiMh2A2psCGONOVSlg', 'hours': [{'open': [{'end': '2230', 'day': 0, 'start': '1130', 'is_overnight': False}, {'end': '2230', 'day': 1, 'start': '1130', 'is_overnight': False}, {'end': '2230', 'day': 2, 'start': '1130', 'is_overnight': False}, {'end': '2300', 'day': 3, 'start': '1130', 'is_overnight': False}, {'end': '2300', 'day': 4, 'start': '1130', 'is_overnight': False}, {'end': '2300', 'day': 5, 'start': '1130', 'is_overnight': False}, {'end': '2230', 'day': 6, 'start': '1130', 'is_overnight': False}], 'is_open_now': True}]}, 'b19': {'name': 'Xian Famous Foods', 'id': 'kwqOmEwWJ0D9PyCdFGE3-g', 'hours': [{'open': [{'end': '2100', 'day': 0, 'start': '1100', 'is_overnight': False}, {'end': '2100', 'day': 1, 'start': '1100', 'is_overnight': False}, {'end': '2100', 'day': 2, 'start': '1100', 'is_overnight': False}, {'end': '2100', 'day': 3, 'start': '1100', 'is_overnight': False}, {'end': '2130', 'day': 4, 'start': '1100', 'is_overnight': False}, {'end': '2130', 'day': 5, 'start': '1100', 'is_overnight': False}, {'end': '2100', 'day': 6, 'start': '1100', 'is_overnight': False}], 'is_open_now': True}]}, 'b0': {'name': 'Buddakan', 'id': 'nI1UYDCYUTt23TpGxqnLKg', 'hours': [{'open': [{'end': '2300', 'day': 0, 'start': '1730', 'is_overnight': False}, {'end': '2300', 'day': 1, 'start': '1730', 'is_overnight': False}, {'end': '0000', 'day': 2, 'start': '1730', 'is_overnight': False}, {'end': '0000', 'day': 3, 'start': '1730', 'is_overnight': False}, {'end': '0100', 'day': 4, 'start': '1700', 'is_overnight': True}, {'end': '0100', 'day': 5, 'start': '1700', 'is_overnight': True}, {'end': '2300', 'day': 6, 'start': '1700', 'is_overnight': False}], 'is_open_now': False}]}, 'b9': {'name': \"Hao Noodle and Tea By Madam Zhu's Kitchen\", 'id': 'scTDvJ2M2jDbb1ntVeIyxA', 'hours': [{'open': [{'end': '1430', 'day': 0, 'start': '1130', 'is_overnight': False}, {'end': '2200', 'day': 0, 'start': '1730', 'is_overnight': False}, {'end': '1430', 'day': 1, 'start': '1130', 'is_overnight': False}, {'end': '2200', 'day': 1, 'start': '1730', 'is_overnight': False}, {'end': '1430', 'day': 2, 'start': '1130', 'is_overnight': False}, {'end': '2200', 'day': 2, 'start': '1730', 'is_overnight': False}, {'end': '1430', 'day': 3, 'start': '1130', 'is_overnight': False}, {'end': '2200', 'day': 3, 'start': '1730', 'is_overnight': False}, {'end': '1500', 'day': 4, 'start': '1200', 'is_overnight': False}, {'end': '2230', 'day': 4, 'start': '1730', 'is_overnight': False}, {'end': '1500', 'day': 5, 'start': '1200', 'is_overnight': False}, {'end': '2230', 'day': 5, 'start': '1730', 'is_overnight': False}, {'end': '1500', 'day': 6, 'start': '1200', 'is_overnight': False}, {'end': '2200', 'day': 6, 'start': '1730', 'is_overnight': False}], 'is_open_now': True}]}, 'b10': {'name': \"Vanessa's Dumpling House\", 'id': 'ZUBqQZwMGZSOVbfpOI_uyg', 'hours': [{'open': [{'end': '2200', 'day': 0, 'start': '1100', 'is_overnight': False}, {'end': '2200', 'day': 1, 'start': '1100', 'is_overnight': False}, {'end': '2200', 'day': 2, 'start': '1100', 'is_overnight': False}, {'end': '2200', 'day': 3, 'start': '1100', 'is_overnight': False}, {'end': '2200', 'day': 4, 'start': '1100', 'is_overnight': False}, {'end': '2200', 'day': 5, 'start': '1100', 'is_overnight': False}, {'end': '2200', 'day': 6, 'start': '1100', 'is_overnight': False}], 'is_open_now': True}]}, 'b15': {'name': \"Xi'an Famous Foods\", 'id': 'HScFap2SwbUlfC-QXVkxFA', 'hours': [{'open': [{'end': '2030', 'day': 0, 'start': '1100', 'is_overnight': False}, {'end': '2030', 'day': 1, 'start': '1100', 'is_overnight': False}, {'end': '2030', 'day': 2, 'start': '1100', 'is_overnight': False}, {'end': '2030', 'day': 3, 'start': '1100', 'is_overnight': False}, {'end': '2030', 'day': 4, 'start': '1100', 'is_overnight': False}, {'end': '2030', 'day': 5, 'start': '1100', 'is_overnight': False}, {'end': '2030', 'day': 6, 'start': '1100', 'is_overnight': False}], 'is_open_now': True}]}, 'b11': {'name': 'Spice Symphony', 'id': 'Va_mnsEvBghHXvc7uZIWJQ', 'hours': [{'open': [{'end': '1500', 'day': 0, 'start': '1100', 'is_overnight': False}, {'end': '2230', 'day': 0, 'start': '1700', 'is_overnight': False}, {'end': '1500', 'day': 1, 'start': '1100', 'is_overnight': False}, {'end': '2230', 'day': 1, 'start': '1700', 'is_overnight': False}, {'end': '1500', 'day': 2, 'start': '1100', 'is_overnight': False}, {'end': '2230', 'day': 2, 'start': '1700', 'is_overnight': False}, {'end': '1500', 'day': 3, 'start': '1100', 'is_overnight': False}, {'end': '2230', 'day': 3, 'start': '1700', 'is_overnight': False}, {'end': '1500', 'day': 4, 'start': '1100', 'is_overnight': False}, {'end': '2330', 'day': 4, 'start': '1700', 'is_overnight': False}, {'end': '1500', 'day': 5, 'start': '1100', 'is_overnight': False}, {'end': '2330', 'day': 5, 'start': '1700', 'is_overnight': False}, {'end': '1500', 'day': 6, 'start': '1100', 'is_overnight': False}, {'end': '2230', 'day': 6, 'start': '1700', 'is_overnight': False}], 'is_open_now': True}]}, 'b17': {'name': \"Auntie Guan's Kitchen 108\", 'id': 'dDXtga5Kgo5B1twdezcZJA', 'hours': [{'open': [{'end': '2200', 'day': 0, 'start': '1100', 'is_overnight': False}, {'end': '2200', 'day': 1, 'start': '1100', 'is_overnight': False}, {'end': '2200', 'day': 2, 'start': '1100', 'is_overnight': False}, {'end': '2200', 'day': 3, 'start': '1100', 'is_overnight': False}, {'end': '2200', 'day': 4, 'start': '1100', 'is_overnight': False}, {'end': '2200', 'day': 5, 'start': '1100', 'is_overnight': False}, {'end': '2200', 'day': 6, 'start': '1130', 'is_overnight': False}], 'is_open_now': True}]}, 'b18': {'name': '99 Favor Taste', 'id': '3Rah-cvFk79duFQ83voQ5A', 'hours': [{'open': [{'end': '0200', 'day': 0, 'start': '1100', 'is_overnight': True}, {'end': '0200', 'day': 1, 'start': '1100', 'is_overnight': True}, {'end': '0200', 'day': 2, 'start': '1100', 'is_overnight': True}, {'end': '0200', 'day': 3, 'start': '1100', 'is_overnight': True}, {'end': '0200', 'day': 4, 'start': '1100', 'is_overnight': True}, {'end': '0200', 'day': 5, 'start': '1100', 'is_overnight': True}, {'end': '0200', 'day': 6, 'start': '1100', 'is_overnight': True}], 'is_open_now': True}]}, 'b14': {'name': 'Silky Kitchen', 'id': 'olRNNJCJ2TJvPRmjBiOcGA', 'hours': [{'open': [{'end': '2230', 'day': 0, 'start': '1100', 'is_overnight': False}, {'end': '2230', 'day': 1, 'start': '1100', 'is_overnight': False}, {'end': '2230', 'day': 2, 'start': '1100', 'is_overnight': False}, {'end': '2230', 'day': 3, 'start': '1100', 'is_overnight': False}, {'end': '2230', 'day': 4, 'start': '1100', 'is_overnight': False}, {'end': '2230', 'day': 5, 'start': '1100', 'is_overnight': False}, {'end': '2230', 'day': 6, 'start': '1100', 'is_overnight': False}], 'is_open_now': True}]}, 'b1': {'name': 'BaoHaus', 'id': 'B3i4zs5wquFu1UZyzYJ-bQ', 'hours': [{'open': [{'end': '2330', 'day': 0, 'start': '1130', 'is_overnight': False}, {'end': '2330', 'day': 1, 'start': '1130', 'is_overnight': False}, {'end': '2330', 'day': 2, 'start': '1130', 'is_overnight': False}, {'end': '2330', 'day': 3, 'start': '1130', 'is_overnight': False}, {'end': '0300', 'day': 4, 'start': '1130', 'is_overnight': True}, {'end': '0300', 'day': 5, 'start': '1130', 'is_overnight': True}, {'end': '2330', 'day': 6, 'start': '1130', 'is_overnight': False}], 'is_open_now': True}]}, 'b3': {'name': \"Xi'an Famous Foods\", 'id': 'Gd3_3mxOvj2xYiqysV8rbQ', 'hours': [{'open': [{'end': '2230', 'day': 0, 'start': '1130', 'is_overnight': False}, {'end': '2230', 'day': 1, 'start': '1130', 'is_overnight': False}, {'end': '2230', 'day': 2, 'start': '1130', 'is_overnight': False}, {'end': '2230', 'day': 3, 'start': '1130', 'is_overnight': False}, {'end': '2300', 'day': 4, 'start': '1130', 'is_overnight': False}, {'end': '2300', 'day': 5, 'start': '1130', 'is_overnight': False}, {'end': '2230', 'day': 6, 'start': '1130', 'is_overnight': False}], 'is_open_now': True}]}, 'b16': {'name': \"Mimi Cheng's Dumplings\", 'id': '2eR8ftw-GiTEwg3Y7Rm-MA', 'hours': [{'open': [{'end': '2130', 'day': 0, 'start': '1130', 'is_overnight': False}, {'end': '2130', 'day': 1, 'start': '1130', 'is_overnight': False}, {'end': '2130', 'day': 2, 'start': '1130', 'is_overnight': False}, {'end': '2200', 'day': 3, 'start': '1130', 'is_overnight': False}, {'end': '2200', 'day': 4, 'start': '1130', 'is_overnight': False}, {'end': '2200', 'day': 5, 'start': '1130', 'is_overnight': False}, {'end': '2130', 'day': 6, 'start': '1130', 'is_overnight': False}], 'is_open_now': True}]}, 'b8': {'name': 'Very Fresh Noodles', 'id': 'oe8GEFE4QLFAKt87y7zcgA', 'hours': [{'open': [{'end': '2100', 'day': 0, 'start': '1100', 'is_overnight': False}, {'end': '2100', 'day': 1, 'start': '1100', 'is_overnight': False}, {'end': '2100', 'day': 2, 'start': '1100', 'is_overnight': False}, {'end': '2100', 'day': 3, 'start': '1100', 'is_overnight': False}, {'end': '2100', 'day': 4, 'start': '1100', 'is_overnight': False}, {'end': '2100', 'day': 5, 'start': '1100', 'is_overnight': False}, {'end': '2000', 'day': 6, 'start': '1100', 'is_overnight': False}], 'is_open_now': True}]}, 'b7': {'name': 'Niu Noodle House', 'id': 'C7CFAdrczXxNhnN-MNJqmw', 'hours': [{'open': [{'end': '2230', 'day': 0, 'start': '1200', 'is_overnight': False}, {'end': '2230', 'day': 1, 'start': '1200', 'is_overnight': False}, {'end': '2230', 'day': 2, 'start': '1200', 'is_overnight': False}, {'end': '2230', 'day': 3, 'start': '1200', 'is_overnight': False}, {'end': '2330', 'day': 4, 'start': '1200', 'is_overnight': False}, {'end': '2330', 'day': 5, 'start': '1200', 'is_overnight': False}, {'end': '2230', 'day': 6, 'start': '1200', 'is_overnight': False}], 'is_open_now': True}]}, 'b13': {'name': 'Nyonya', 'id': 'M-odQWSEfsR2mVEw7nKG-g', 'hours': [{'open': [{'end': '2300', 'day': 0, 'start': '1100', 'is_overnight': False}, {'end': '2300', 'day': 1, 'start': '1100', 'is_overnight': False}, {'end': '2300', 'day': 2, 'start': '1100', 'is_overnight': False}, {'end': '2300', 'day': 3, 'start': '1100', 'is_overnight': False}, {'end': '0000', 'day': 4, 'start': '1100', 'is_overnight': False}, {'end': '0000', 'day': 5, 'start': '1100', 'is_overnight': False}, {'end': '2300', 'day': 6, 'start': '1100', 'is_overnight': False}], 'is_open_now': True}]}}\n",
      "{'b5': {'name': \"Xi'an Famous Foods\", 'id': '5RjZCsXuWPclyrDsnsXw7w', 'hours': [{'open': [{'end': '2030', 'day': 0, 'start': '1100', 'is_overnight': False}, {'end': '2030', 'day': 1, 'start': '1100', 'is_overnight': False}, {'end': '2030', 'day': 2, 'start': '1100', 'is_overnight': False}, {'end': '2030', 'day': 3, 'start': '1100', 'is_overnight': False}, {'end': '2030', 'day': 4, 'start': '1100', 'is_overnight': False}, {'end': '2030', 'day': 5, 'start': '1100', 'is_overnight': False}, {'end': '2030', 'day': 6, 'start': '1100', 'is_overnight': False}], 'is_open_now': True}]}, 'b4': {'name': 'Calle Dao - Chelsea', 'id': 'pBNMZp_tKCAfRNx7-ybcHQ', 'hours': [{'open': [{'end': '2200', 'day': 0, 'start': '1130', 'is_overnight': False}, {'end': '2200', 'day': 1, 'start': '1130', 'is_overnight': False}, {'end': '2300', 'day': 2, 'start': '1130', 'is_overnight': False}, {'end': '2300', 'day': 3, 'start': '1130', 'is_overnight': False}, {'end': '2300', 'day': 4, 'start': '1130', 'is_overnight': False}, {'end': '2300', 'day': 5, 'start': '1100', 'is_overnight': False}, {'end': '2200', 'day': 6, 'start': '1100', 'is_overnight': False}], 'is_open_now': True}]}, 'b12': {'name': 'RedFarm', 'id': 'RTFIMX31BPeZzx7kJJ1SCA', 'hours': [{'open': [{'end': '2300', 'day': 0, 'start': '1700', 'is_overnight': False}, {'end': '2300', 'day': 1, 'start': '1700', 'is_overnight': False}, {'end': '2300', 'day': 2, 'start': '1700', 'is_overnight': False}, {'end': '2330', 'day': 3, 'start': '1700', 'is_overnight': False}, {'end': '2330', 'day': 4, 'start': '1700', 'is_overnight': False}, {'end': '1430', 'day': 5, 'start': '1100', 'is_overnight': False}, {'end': '2330', 'day': 5, 'start': '1700', 'is_overnight': False}, {'end': '1430', 'day': 6, 'start': '1100', 'is_overnight': False}, {'end': '2300', 'day': 6, 'start': '1700', 'is_overnight': False}], 'is_open_now': True}]}, 'b6': {'name': 'MáLà Project', 'id': 'Kqb7MjTPNkjPMoFRd-rWpw', 'hours': [{'open': [{'end': '1500', 'day': 0, 'start': '1200', 'is_overnight': False}, {'end': '2230', 'day': 0, 'start': '1700', 'is_overnight': False}, {'end': '1500', 'day': 1, 'start': '1200', 'is_overnight': False}, {'end': '2230', 'day': 1, 'start': '1700', 'is_overnight': False}, {'end': '1500', 'day': 2, 'start': '1200', 'is_overnight': False}, {'end': '2230', 'day': 2, 'start': '1700', 'is_overnight': False}, {'end': '1500', 'day': 3, 'start': '1200', 'is_overnight': False}, {'end': '2230', 'day': 3, 'start': '1700', 'is_overnight': False}, {'end': '1500', 'day': 4, 'start': '1200', 'is_overnight': False}, {'end': '2330', 'day': 4, 'start': '1700', 'is_overnight': False}, {'end': '2330', 'day': 5, 'start': '1200', 'is_overnight': False}, {'end': '2230', 'day': 6, 'start': '1200', 'is_overnight': False}], 'is_open_now': True}]}, 'b2': {'name': 'Szechuan Mountain House', 'id': 'jc7lVTvmYMIK5RNpENtS6w', 'hours': [{'open': [{'end': '2230', 'day': 0, 'start': '1130', 'is_overnight': False}, {'end': '2230', 'day': 1, 'start': '1130', 'is_overnight': False}, {'end': '2230', 'day': 2, 'start': '1130', 'is_overnight': False}, {'end': '2330', 'day': 3, 'start': '1130', 'is_overnight': False}, {'end': '2330', 'day': 4, 'start': '1130', 'is_overnight': False}, {'end': '2330', 'day': 5, 'start': '1130', 'is_overnight': False}, {'end': '2230', 'day': 6, 'start': '1130', 'is_overnight': False}], 'is_open_now': True}]}, 'b19': {'name': 'Hunan Bistro', 'id': 'lgS9lE0Y9FhzT68zCj5QCw', 'hours': [{'open': [{'end': '2230', 'day': 0, 'start': '1130', 'is_overnight': False}, {'end': '2230', 'day': 1, 'start': '1130', 'is_overnight': False}, {'end': '2230', 'day': 2, 'start': '1130', 'is_overnight': False}, {'end': '2230', 'day': 3, 'start': '1130', 'is_overnight': False}, {'end': '2300', 'day': 4, 'start': '1130', 'is_overnight': False}, {'end': '2300', 'day': 5, 'start': '1130', 'is_overnight': False}, {'end': '2230', 'day': 6, 'start': '1200', 'is_overnight': False}], 'is_open_now': True}]}, 'b0': {'name': 'Burp Bowl Cafe', 'id': 'WRPJeH3goSpj5ke3Pkrnfw', 'hours': [{'open': [{'end': '2230', 'day': 0, 'start': '1100', 'is_overnight': False}, {'end': '2230', 'day': 1, 'start': '1100', 'is_overnight': False}, {'end': '2230', 'day': 2, 'start': '1100', 'is_overnight': False}, {'end': '2230', 'day': 3, 'start': '1100', 'is_overnight': False}, {'end': '2230', 'day': 4, 'start': '1100', 'is_overnight': False}, {'end': '2230', 'day': 5, 'start': '1100', 'is_overnight': False}, {'end': '2230', 'day': 6, 'start': '1100', 'is_overnight': False}], 'is_open_now': True}]}, 'b9': {'name': 'Dian Kitchen', 'id': '2UxAkvKkkWNwqZi9H0OzWw', 'hours': [{'open': [{'end': '2200', 'day': 1, 'start': '1130', 'is_overnight': False}, {'end': '2200', 'day': 2, 'start': '1130', 'is_overnight': False}, {'end': '2200', 'day': 3, 'start': '1130', 'is_overnight': False}, {'end': '2200', 'day': 4, 'start': '1130', 'is_overnight': False}, {'end': '2200', 'day': 5, 'start': '1130', 'is_overnight': False}, {'end': '2200', 'day': 6, 'start': '1130', 'is_overnight': False}], 'is_open_now': True}]}, 'b10': {'name': 'Chow House', 'id': '0dDCDQz7DrKkSvu9h2hcQw', 'hours': [{'open': [{'end': '2200', 'day': 0, 'start': '1100', 'is_overnight': False}, {'end': '2200', 'day': 1, 'start': '1100', 'is_overnight': False}, {'end': '2200', 'day': 2, 'start': '1100', 'is_overnight': False}, {'end': '2230', 'day': 3, 'start': '1100', 'is_overnight': False}, {'end': '2230', 'day': 4, 'start': '1100', 'is_overnight': False}, {'end': '2230', 'day': 5, 'start': '1100', 'is_overnight': False}, {'end': '2200', 'day': 6, 'start': '1100', 'is_overnight': False}], 'is_open_now': True}]}, 'b15': {'name': 'Noodle King of NYC', 'id': 'Lr8pyIPm3SsVcT3IlCXwcw', 'hours': [{'open': [{'end': '2200', 'day': 0, 'start': '1100', 'is_overnight': False}, {'end': '2200', 'day': 1, 'start': '1100', 'is_overnight': False}, {'end': '2200', 'day': 2, 'start': '1100', 'is_overnight': False}, {'end': '2200', 'day': 3, 'start': '1100', 'is_overnight': False}, {'end': '2200', 'day': 4, 'start': '1100', 'is_overnight': False}, {'end': '2200', 'day': 5, 'start': '1100', 'is_overnight': False}, {'end': '2200', 'day': 6, 'start': '1100', 'is_overnight': False}], 'is_open_now': True}]}, 'b11': {'name': 'Clay Pot NYC', 'id': 'ZCAkVl5SeCDeBWg_xjfYeg', 'hours': [{'open': [{'end': '2200', 'day': 0, 'start': '1700', 'is_overnight': False}, {'end': '2200', 'day': 1, 'start': '1700', 'is_overnight': False}, {'end': '2200', 'day': 2, 'start': '1700', 'is_overnight': False}, {'end': '2200', 'day': 3, 'start': '1700', 'is_overnight': False}, {'end': '2300', 'day': 4, 'start': '1700', 'is_overnight': False}, {'end': '2300', 'day': 5, 'start': '1700', 'is_overnight': False}, {'end': '2200', 'day': 6, 'start': '1700', 'is_overnight': False}], 'is_open_now': False}]}, 'b17': {'name': 'Le Sia', 'id': 'DOa_Hm5HHT99GOvlhbydaQ', 'hours': [{'open': [{'end': '0100', 'day': 0, 'start': '1630', 'is_overnight': True}, {'end': '0100', 'day': 1, 'start': '1630', 'is_overnight': True}, {'end': '0100', 'day': 2, 'start': '1630', 'is_overnight': True}, {'end': '0200', 'day': 3, 'start': '1630', 'is_overnight': True}, {'end': '0200', 'day': 4, 'start': '1630', 'is_overnight': True}, {'end': '0200', 'day': 5, 'start': '1200', 'is_overnight': True}, {'end': '0000', 'day': 6, 'start': '1200', 'is_overnight': False}], 'is_open_now': True}]}, 'b18': {'name': \"Uncle Ted's Modern Chinese Cuisine\", 'id': 'SVJNB9LqI13jtVyKMZVqeg', 'hours': [{'open': [{'end': '2230', 'day': 0, 'start': '1200', 'is_overnight': False}, {'end': '2230', 'day': 1, 'start': '1200', 'is_overnight': False}, {'end': '2230', 'day': 2, 'start': '1200', 'is_overnight': False}, {'end': '2230', 'day': 3, 'start': '1200', 'is_overnight': False}, {'end': '2330', 'day': 4, 'start': '1200', 'is_overnight': False}, {'end': '2330', 'day': 5, 'start': '1200', 'is_overnight': False}, {'end': '2230', 'day': 6, 'start': '1200', 'is_overnight': False}], 'is_open_now': True}]}, 'b14': {'name': 'Bang Chengdu Street Kitchen', 'id': '31K2IfTO2iQkgJ5hSY-Gbg', 'hours': [{'open': [{'end': '2100', 'day': 0, 'start': '1130', 'is_overnight': False}, {'end': '2100', 'day': 1, 'start': '1130', 'is_overnight': False}, {'end': '2100', 'day': 2, 'start': '1130', 'is_overnight': False}, {'end': '2100', 'day': 3, 'start': '1130', 'is_overnight': False}, {'end': '2100', 'day': 4, 'start': '1130', 'is_overnight': False}, {'end': '2100', 'day': 5, 'start': '1130', 'is_overnight': False}, {'end': '2100', 'day': 6, 'start': '1130', 'is_overnight': False}], 'is_open_now': True}]}, 'b1': {'name': 'Shu Jiao Fu Zhou Cuisine Restaurant', 'id': 'lynQoI3w_pzYfHGeuUU-Qg', 'hours': [{'open': [{'end': '2130', 'day': 0, 'start': '0930', 'is_overnight': False}, {'end': '2130', 'day': 1, 'start': '0930', 'is_overnight': False}, {'end': '2130', 'day': 2, 'start': '0930', 'is_overnight': False}, {'end': '2130', 'day': 3, 'start': '0930', 'is_overnight': False}, {'end': '2130', 'day': 4, 'start': '0930', 'is_overnight': False}, {'end': '2130', 'day': 5, 'start': '0930', 'is_overnight': False}, {'end': '2130', 'day': 6, 'start': '0930', 'is_overnight': False}], 'is_open_now': True}]}, 'b3': {'name': 'Decoy', 'id': 'l44CFBTejwL0ElKmkH7xQQ', 'hours': [{'open': [{'end': '2300', 'day': 0, 'start': '1700', 'is_overnight': False}, {'end': '2300', 'day': 1, 'start': '1700', 'is_overnight': False}, {'end': '2300', 'day': 2, 'start': '1700', 'is_overnight': False}, {'end': '0100', 'day': 3, 'start': '1700', 'is_overnight': True}, {'end': '0100', 'day': 4, 'start': '1700', 'is_overnight': True}, {'end': '0100', 'day': 5, 'start': '1700', 'is_overnight': True}, {'end': '2300', 'day': 6, 'start': '1700', 'is_overnight': False}], 'is_open_now': False}]}, 'b16': {'name': 'South Of The Clouds', 'id': 'XaEFFUabnbH8ZF7ccmSAlQ', 'hours': [{'open': [{'end': '2130', 'day': 0, 'start': '1130', 'is_overnight': False}, {'end': '2130', 'day': 1, 'start': '1130', 'is_overnight': False}, {'end': '2130', 'day': 2, 'start': '1130', 'is_overnight': False}, {'end': '2130', 'day': 3, 'start': '1130', 'is_overnight': False}, {'end': '2130', 'day': 4, 'start': '1130', 'is_overnight': False}, {'end': '2130', 'day': 5, 'start': '1130', 'is_overnight': False}, {'end': '2130', 'day': 6, 'start': '1130', 'is_overnight': False}], 'is_open_now': True}]}, 'b8': {'name': 'Tuome', 'id': 'R7EGjHWw0tNheY6-ahH8fQ', 'hours': [{'open': [{'end': '2200', 'day': 1, 'start': '1800', 'is_overnight': False}, {'end': '2200', 'day': 2, 'start': '1800', 'is_overnight': False}, {'end': '2200', 'day': 3, 'start': '1800', 'is_overnight': False}, {'end': '2230', 'day': 4, 'start': '1730', 'is_overnight': False}, {'end': '2230', 'day': 5, 'start': '1730', 'is_overnight': False}], 'is_open_now': False}]}, 'b7': {'name': \"Sammy's Noodle Shop & Grill\", 'id': 'mOP2_wjgUMqELKDL1Y-U-A', 'hours': [{'open': [{'end': '2230', 'day': 0, 'start': '1130', 'is_overnight': False}, {'end': '2230', 'day': 1, 'start': '1130', 'is_overnight': False}, {'end': '2230', 'day': 2, 'start': '1130', 'is_overnight': False}, {'end': '2230', 'day': 3, 'start': '1130', 'is_overnight': False}, {'end': '0000', 'day': 4, 'start': '1130', 'is_overnight': False}, {'end': '0000', 'day': 5, 'start': '1130', 'is_overnight': False}, {'end': '2330', 'day': 6, 'start': '1130', 'is_overnight': False}], 'is_open_now': True}]}, 'b13': {'name': 'Chop Shop II', 'id': 'hh0W5CPtx2MoyQGb1kAEEA', 'hours': [{'open': [{'end': '1530', 'day': 0, 'start': '1200', 'is_overnight': False}, {'end': '2200', 'day': 0, 'start': '1730', 'is_overnight': False}, {'end': '1530', 'day': 1, 'start': '1200', 'is_overnight': False}, {'end': '2200', 'day': 1, 'start': '1730', 'is_overnight': False}, {'end': '1530', 'day': 2, 'start': '1200', 'is_overnight': False}, {'end': '2200', 'day': 2, 'start': '1730', 'is_overnight': False}, {'end': '1530', 'day': 3, 'start': '1200', 'is_overnight': False}, {'end': '2230', 'day': 3, 'start': '1730', 'is_overnight': False}, {'end': '1530', 'day': 4, 'start': '1200', 'is_overnight': False}, {'end': '2230', 'day': 4, 'start': '1730', 'is_overnight': False}, {'end': '1530', 'day': 5, 'start': '1200', 'is_overnight': False}, {'end': '2230', 'day': 5, 'start': '1730', 'is_overnight': False}, {'end': '2130', 'day': 6, 'start': '1700', 'is_overnight': False}], 'is_open_now': True}]}}\n",
      "{'b5': {'name': 'The Back Room', 'id': 'neHrnNsYPpRZqdXiemV-sg', 'hours': [{'open': [{'end': '0200', 'day': 0, 'start': '1830', 'is_overnight': True}, {'end': '0200', 'day': 1, 'start': '1830', 'is_overnight': True}, {'end': '0200', 'day': 2, 'start': '1830', 'is_overnight': True}, {'end': '0300', 'day': 3, 'start': '1830', 'is_overnight': True}, {'end': '0400', 'day': 4, 'start': '1830', 'is_overnight': True}, {'end': '0400', 'day': 5, 'start': '1830', 'is_overnight': True}, {'end': '0200', 'day': 6, 'start': '1830', 'is_overnight': True}], 'is_open_now': False}]}, 'b4': {'name': 'Attaboy', 'id': 'H7S7-vF2z_HfaLo6BGPetw', 'hours': [{'open': [{'end': '0330', 'day': 0, 'start': '1800', 'is_overnight': True}, {'end': '0330', 'day': 1, 'start': '1800', 'is_overnight': True}, {'end': '0330', 'day': 2, 'start': '1800', 'is_overnight': True}, {'end': '0330', 'day': 3, 'start': '1800', 'is_overnight': True}, {'end': '0330', 'day': 4, 'start': '1800', 'is_overnight': True}, {'end': '0330', 'day': 5, 'start': '1800', 'is_overnight': True}, {'end': '0330', 'day': 6, 'start': '1800', 'is_overnight': True}], 'is_open_now': False}]}, 'b12': {'name': 'The Red Room', 'id': '6vTYrMY3eOLqP9BQ-tAPzg', 'hours': []}, 'b6': {'name': \"Garfunkel's\", 'id': 'ph-GkrDhM1pBwbs-pfvV1A', 'hours': [{'open': [{'end': '0000', 'day': 0, 'start': '1800', 'is_overnight': False}, {'end': '0200', 'day': 1, 'start': '1800', 'is_overnight': True}, {'end': '0200', 'day': 2, 'start': '1800', 'is_overnight': True}, {'end': '0400', 'day': 3, 'start': '1800', 'is_overnight': True}, {'end': '0400', 'day': 4, 'start': '1800', 'is_overnight': True}, {'end': '0400', 'day': 5, 'start': '1800', 'is_overnight': True}, {'end': '0000', 'day': 6, 'start': '1800', 'is_overnight': False}], 'is_open_now': False}]}, 'b2': {'name': 'Bathtub Gin', 'id': '89XYJZSPKt-dqjE1zyTIzQ', 'hours': [{'open': [{'end': '0200', 'day': 0, 'start': '1700', 'is_overnight': True}, {'end': '0200', 'day': 1, 'start': '1700', 'is_overnight': True}, {'end': '0200', 'day': 2, 'start': '1700', 'is_overnight': True}, {'end': '0300', 'day': 3, 'start': '1700', 'is_overnight': True}, {'end': '0400', 'day': 4, 'start': '1700', 'is_overnight': True}, {'end': '0400', 'day': 5, 'start': '1600', 'is_overnight': True}, {'end': '0200', 'day': 6, 'start': '1700', 'is_overnight': True}], 'is_open_now': False}]}, 'b19': {'name': 'Maialino', 'id': 'yi6jIxzHo-nbAOG4KWuqcw', 'hours': [{'open': [{'end': '2200', 'day': 0, 'start': '0730', 'is_overnight': False}, {'end': '2200', 'day': 1, 'start': '0730', 'is_overnight': False}, {'end': '2200', 'day': 2, 'start': '0730', 'is_overnight': False}, {'end': '2230', 'day': 3, 'start': '0730', 'is_overnight': False}, {'end': '2230', 'day': 4, 'start': '0730', 'is_overnight': False}, {'end': '2230', 'day': 5, 'start': '0800', 'is_overnight': False}, {'end': '2200', 'day': 6, 'start': '0800', 'is_overnight': False}], 'is_open_now': True}]}, 'b0': {'name': \"Angel's Share\", 'id': 'ZD22cMZvSmfNsXS9vKizGA', 'hours': [{'open': [{'end': '0130', 'day': 0, 'start': '1800', 'is_overnight': True}, {'end': '0130', 'day': 1, 'start': '1800', 'is_overnight': True}, {'end': '0130', 'day': 2, 'start': '1800', 'is_overnight': True}, {'end': '0200', 'day': 3, 'start': '1800', 'is_overnight': True}, {'end': '0230', 'day': 4, 'start': '1800', 'is_overnight': True}, {'end': '0230', 'day': 5, 'start': '1800', 'is_overnight': True}, {'end': '0130', 'day': 6, 'start': '1800', 'is_overnight': True}], 'is_open_now': False}]}, 'b9': {'name': 'The 18th Room', 'id': 'QUGOy2_I7W-GoZr3-ljITA', 'hours': [{'open': [{'end': '0200', 'day': 1, 'start': '1800', 'is_overnight': True}, {'end': '0200', 'day': 2, 'start': '1800', 'is_overnight': True}, {'end': '0200', 'day': 3, 'start': '1800', 'is_overnight': True}, {'end': '0300', 'day': 4, 'start': '1800', 'is_overnight': True}, {'end': '0300', 'day': 5, 'start': '1800', 'is_overnight': True}], 'is_open_now': False}]}, 'b10': {'name': 'The Sir Henri Rooftop Penthouse Bar', 'id': 'RCNGsiQ43d6IS1fDqztOig', 'hours': [{'open': [{'end': '2300', 'day': 0, 'start': '1700', 'is_overnight': False}, {'end': '2300', 'day': 1, 'start': '1700', 'is_overnight': False}, {'end': '2300', 'day': 2, 'start': '1700', 'is_overnight': False}, {'end': '0000', 'day': 3, 'start': '1700', 'is_overnight': False}, {'end': '0000', 'day': 4, 'start': '1700', 'is_overnight': False}, {'end': '0000', 'day': 5, 'start': '1700', 'is_overnight': False}, {'end': '2300', 'day': 6, 'start': '1700', 'is_overnight': False}], 'is_open_now': False}]}, 'b15': {'name': 'Max Brenner - New York', 'id': 'vbvtWBbO3Q-Q15w7aHxgVg', 'hours': [{'open': [{'end': '0100', 'day': 0, 'start': '0900', 'is_overnight': True}, {'end': '0100', 'day': 1, 'start': '0900', 'is_overnight': True}, {'end': '0100', 'day': 2, 'start': '0900', 'is_overnight': True}, {'end': '0100', 'day': 3, 'start': '0900', 'is_overnight': True}, {'end': '0200', 'day': 4, 'start': '0900', 'is_overnight': True}, {'end': '0200', 'day': 5, 'start': '0900', 'is_overnight': True}, {'end': '0000', 'day': 6, 'start': '0900', 'is_overnight': False}], 'is_open_now': True}]}, 'b11': {'name': 'Undercote', 'id': '3p0IHlMMgRlx9KxhDA8Hqw', 'hours': [{'open': [{'end': '2330', 'day': 1, 'start': '0500', 'is_overnight': False}, {'end': '2330', 'day': 2, 'start': '0500', 'is_overnight': False}, {'end': '2330', 'day': 3, 'start': '0500', 'is_overnight': False}, {'end': '2330', 'day': 4, 'start': '0500', 'is_overnight': False}, {'end': '0000', 'day': 5, 'start': '0500', 'is_overnight': False}], 'is_open_now': True}]}, 'b17': {'name': 'Best Bagel & Coffee', 'id': 'j1S3NUrkB3BVT49n_e76NQ', 'hours': [{'open': [{'end': '1600', 'day': 0, 'start': '0600', 'is_overnight': False}, {'end': '1600', 'day': 1, 'start': '0600', 'is_overnight': False}, {'end': '1600', 'day': 2, 'start': '0600', 'is_overnight': False}, {'end': '1600', 'day': 3, 'start': '0600', 'is_overnight': False}, {'end': '1600', 'day': 4, 'start': '0600', 'is_overnight': False}, {'end': '1430', 'day': 5, 'start': '0800', 'is_overnight': False}], 'is_open_now': True}]}, 'b18': {'name': 'Cafeteria', 'id': 'UXVDyIzmO5kmJnlv-HDXLg', 'hours': [{'open': [{'end': '0000', 'day': 0, 'start': '0000', 'is_overnight': True}, {'end': '0000', 'day': 1, 'start': '0000', 'is_overnight': True}, {'end': '0000', 'day': 2, 'start': '0000', 'is_overnight': True}, {'end': '0000', 'day': 3, 'start': '0000', 'is_overnight': True}, {'end': '0000', 'day': 4, 'start': '0000', 'is_overnight': True}, {'end': '0000', 'day': 5, 'start': '0000', 'is_overnight': True}, {'end': '0000', 'day': 6, 'start': '0000', 'is_overnight': True}], 'is_open_now': True}]}, 'b14': {'name': \"Speakeasy Dollhouse -  Ziegfeld's Midnight Frolic\", 'id': 'X_fIYLkGw71zYYK0apXDHw', 'hours': [{'open': [{'end': '2300', 'day': 2, 'start': '0700', 'is_overnight': False}, {'end': '2300', 'day': 3, 'start': '1900', 'is_overnight': False}, {'end': '2300', 'day': 4, 'start': '1900', 'is_overnight': False}, {'end': '2300', 'day': 5, 'start': '1900', 'is_overnight': False}], 'is_open_now': False}]}, 'b1': {'name': 'Little Branch', 'id': 'a8CdwY4uFIP4nXkl4V5EEg', 'hours': [{'open': [{'end': '0300', 'day': 0, 'start': '1900', 'is_overnight': True}, {'end': '0300', 'day': 1, 'start': '1900', 'is_overnight': True}, {'end': '0300', 'day': 2, 'start': '1900', 'is_overnight': True}, {'end': '0300', 'day': 3, 'start': '1900', 'is_overnight': True}, {'end': '0300', 'day': 4, 'start': '1900', 'is_overnight': True}, {'end': '0300', 'day': 5, 'start': '1900', 'is_overnight': True}, {'end': '0200', 'day': 6, 'start': '1900', 'is_overnight': True}], 'is_open_now': False}]}, 'b3': {'name': 'Patent Pending', 'id': 'VBjYIelQBlCK889IBVrWzQ', 'hours': [{'open': [{'end': '0000', 'day': 0, 'start': '1700', 'is_overnight': False}, {'end': '0000', 'day': 1, 'start': '1700', 'is_overnight': False}, {'end': '0000', 'day': 2, 'start': '1700', 'is_overnight': False}, {'end': '0200', 'day': 3, 'start': '1700', 'is_overnight': True}, {'end': '0200', 'day': 4, 'start': '1700', 'is_overnight': True}, {'end': '0200', 'day': 5, 'start': '1700', 'is_overnight': True}, {'end': '0000', 'day': 6, 'start': '1700', 'is_overnight': False}], 'is_open_now': False}]}, 'b16': {'name': 'Olio e Piú', 'id': '16ZnHpuaaBt92XWeJHCC5A', 'hours': [{'open': [{'end': '0000', 'day': 0, 'start': '1000', 'is_overnight': False}, {'end': '0000', 'day': 1, 'start': '1000', 'is_overnight': False}, {'end': '0000', 'day': 2, 'start': '1000', 'is_overnight': False}, {'end': '0000', 'day': 3, 'start': '1000', 'is_overnight': False}, {'end': '0100', 'day': 4, 'start': '1000', 'is_overnight': True}, {'end': '0100', 'day': 5, 'start': '1000', 'is_overnight': True}, {'end': '2300', 'day': 6, 'start': '1000', 'is_overnight': False}], 'is_open_now': True}]}, 'b8': {'name': 'Turntable LP Bar & Karaoke', 'id': 's-b1Mn_Gzkftz2MCjZ3lwg', 'hours': [{'open': [{'end': '0000', 'day': 0, 'start': '1200', 'is_overnight': False}, {'end': '0000', 'day': 1, 'start': '1200', 'is_overnight': False}, {'end': '0000', 'day': 2, 'start': '1200', 'is_overnight': False}, {'end': '0100', 'day': 3, 'start': '1200', 'is_overnight': True}, {'end': '0200', 'day': 4, 'start': '1200', 'is_overnight': True}, {'end': '0200', 'day': 5, 'start': '1200', 'is_overnight': True}, {'end': '0000', 'day': 6, 'start': '1200', 'is_overnight': False}], 'is_open_now': True}]}, 'b7': {'name': \"Chumley's\", 'id': '5OfCQDtwqKiYAcsi-NABjQ', 'hours': [{'open': [{'end': '2345', 'day': 0, 'start': '1730', 'is_overnight': False}, {'end': '2345', 'day': 1, 'start': '1730', 'is_overnight': False}, {'end': '2345', 'day': 2, 'start': '1730', 'is_overnight': False}, {'end': '2345', 'day': 3, 'start': '1730', 'is_overnight': False}, {'end': '2345', 'day': 4, 'start': '1730', 'is_overnight': False}, {'end': '2345', 'day': 5, 'start': '1730', 'is_overnight': False}], 'is_open_now': False}]}, 'b13': {'name': 'Village 122 Cafe', 'id': 'cv53cUtUS9kwZyO4iHovjg', 'hours': []}}\n",
      "{'b5': {'name': 'Minetta Tavern', 'id': 'PYcL2z9gHj6-ZTlViT9Nqw', 'hours': [{'open': [{'end': '0000', 'day': 0, 'start': '1730', 'is_overnight': False}, {'end': '0000', 'day': 1, 'start': '1730', 'is_overnight': False}, {'end': '1500', 'day': 2, 'start': '1200', 'is_overnight': False}, {'end': '0000', 'day': 2, 'start': '1730', 'is_overnight': False}, {'end': '1500', 'day': 3, 'start': '1200', 'is_overnight': False}, {'end': '0100', 'day': 3, 'start': '1730', 'is_overnight': True}, {'end': '1500', 'day': 4, 'start': '1200', 'is_overnight': False}, {'end': '0100', 'day': 4, 'start': '1730', 'is_overnight': True}, {'end': '1500', 'day': 5, 'start': '1100', 'is_overnight': False}, {'end': '0100', 'day': 5, 'start': '1730', 'is_overnight': True}, {'end': '1500', 'day': 6, 'start': '1100', 'is_overnight': False}, {'end': '0000', 'day': 6, 'start': '1730', 'is_overnight': False}], 'is_open_now': True}]}, 'b4': {'name': 'Westville Chelsea', 'id': 'MctQwL9Mp5X7DJk13VoERg', 'hours': [{'open': [{'end': '2300', 'day': 0, 'start': '1000', 'is_overnight': False}, {'end': '2300', 'day': 1, 'start': '1000', 'is_overnight': False}, {'end': '2300', 'day': 2, 'start': '1000', 'is_overnight': False}, {'end': '2300', 'day': 3, 'start': '1000', 'is_overnight': False}, {'end': '2300', 'day': 4, 'start': '1000', 'is_overnight': False}, {'end': '2300', 'day': 5, 'start': '1000', 'is_overnight': False}, {'end': '2200', 'day': 6, 'start': '1000', 'is_overnight': False}], 'is_open_now': True}]}, 'b12': {'name': \"Friedman's\", 'id': 'cCesIqo-LQt0cRlZAnrAZQ', 'hours': [{'open': [{'end': '2200', 'day': 0, 'start': '0730', 'is_overnight': False}, {'end': '2200', 'day': 1, 'start': '0730', 'is_overnight': False}, {'end': '2200', 'day': 2, 'start': '0730', 'is_overnight': False}, {'end': '2200', 'day': 3, 'start': '0730', 'is_overnight': False}, {'end': '2200', 'day': 4, 'start': '0730', 'is_overnight': False}, {'end': '1530', 'day': 5, 'start': '0830', 'is_overnight': False}, {'end': '2200', 'day': 5, 'start': '1700', 'is_overnight': False}, {'end': '1530', 'day': 6, 'start': '0830', 'is_overnight': False}, {'end': '2100', 'day': 6, 'start': '1700', 'is_overnight': False}], 'is_open_now': True}]}, 'b6': {'name': 'Jane', 'id': 'uoT2_Wrt1noD6kZOID7tUg', 'hours': [{'open': [{'end': '2200', 'day': 0, 'start': '1130', 'is_overnight': False}, {'end': '2200', 'day': 1, 'start': '1130', 'is_overnight': False}, {'end': '2200', 'day': 2, 'start': '1130', 'is_overnight': False}, {'end': '2200', 'day': 3, 'start': '1130', 'is_overnight': False}, {'end': '2300', 'day': 4, 'start': '1130', 'is_overnight': False}, {'end': '2300', 'day': 5, 'start': '0900', 'is_overnight': False}, {'end': '2200', 'day': 6, 'start': '0900', 'is_overnight': False}], 'is_open_now': True}]}, 'b2': {'name': 'The Grey Dog - Union Square', 'id': 'VCqNjupCWZ5INzOcyBMJSg', 'hours': [{'open': [{'end': '2200', 'day': 0, 'start': '0700', 'is_overnight': False}, {'end': '2200', 'day': 1, 'start': '0700', 'is_overnight': False}, {'end': '2200', 'day': 2, 'start': '0700', 'is_overnight': False}, {'end': '2200', 'day': 3, 'start': '0700', 'is_overnight': False}, {'end': '2200', 'day': 4, 'start': '0700', 'is_overnight': False}, {'end': '2200', 'day': 5, 'start': '0800', 'is_overnight': False}, {'end': '2100', 'day': 6, 'start': '0800', 'is_overnight': False}], 'is_open_now': True}]}, 'b19': {'name': 'Feast', 'id': '-vF3hX7v1R4oAjfNgifZvA', 'hours': [{'open': [{'end': '2200', 'day': 0, 'start': '1700', 'is_overnight': False}, {'end': '2200', 'day': 1, 'start': '1700', 'is_overnight': False}, {'end': '2200', 'day': 2, 'start': '1700', 'is_overnight': False}, {'end': '2200', 'day': 3, 'start': '1700', 'is_overnight': False}, {'end': '2230', 'day': 4, 'start': '1700', 'is_overnight': False}, {'end': '1500', 'day': 5, 'start': '1100', 'is_overnight': False}, {'end': '2230', 'day': 5, 'start': '1730', 'is_overnight': False}, {'end': '1500', 'day': 6, 'start': '1100', 'is_overnight': False}, {'end': '2200', 'day': 6, 'start': '1730', 'is_overnight': False}], 'is_open_now': True}]}, 'b0': {'name': \"Johny's Luncheonette\", 'id': 'WKDdD8Z17-P1XhkyJtDEFA', 'hours': [{'open': [{'end': '1600', 'day': 0, 'start': '0730', 'is_overnight': False}, {'end': '1600', 'day': 1, 'start': '0730', 'is_overnight': False}, {'end': '1600', 'day': 2, 'start': '0730', 'is_overnight': False}, {'end': '1600', 'day': 3, 'start': '0730', 'is_overnight': False}, {'end': '1600', 'day': 4, 'start': '0730', 'is_overnight': False}, {'end': '1600', 'day': 5, 'start': '0830', 'is_overnight': False}, {'end': '1600', 'day': 6, 'start': '0830', 'is_overnight': False}], 'is_open_now': True}]}, 'b9': {'name': 'The Smith', 'id': 'Xd_l7jtUAZZAAvK8-mI2Jw', 'hours': [{'open': [{'end': '0000', 'day': 0, 'start': '0730', 'is_overnight': False}, {'end': '0000', 'day': 1, 'start': '0730', 'is_overnight': False}, {'end': '0000', 'day': 2, 'start': '0730', 'is_overnight': False}, {'end': '0000', 'day': 3, 'start': '0730', 'is_overnight': False}, {'end': '0100', 'day': 4, 'start': '0730', 'is_overnight': True}, {'end': '0100', 'day': 5, 'start': '0930', 'is_overnight': True}, {'end': '0000', 'day': 6, 'start': '0930', 'is_overnight': False}], 'is_open_now': True}]}, 'b10': {'name': 'Brooklyn Bagel & Coffee Company', 'id': 'pb_ryc8FYHpUPV56eV2Eyg', 'hours': [{'open': [{'end': '1630', 'day': 0, 'start': '0630', 'is_overnight': False}, {'end': '1630', 'day': 1, 'start': '0630', 'is_overnight': False}, {'end': '1630', 'day': 2, 'start': '0630', 'is_overnight': False}, {'end': '1630', 'day': 3, 'start': '0630', 'is_overnight': False}, {'end': '1630', 'day': 4, 'start': '0630', 'is_overnight': False}, {'end': '1630', 'day': 5, 'start': '0700', 'is_overnight': False}, {'end': '1630', 'day': 6, 'start': '0700', 'is_overnight': False}], 'is_open_now': True}]}, 'b15': {'name': 'Her Name Is Han', 'id': 'qY1o1MhoRyN84RRhUJtvpQ', 'hours': [{'open': [{'end': '1430', 'day': 0, 'start': '1200', 'is_overnight': False}, {'end': '2215', 'day': 0, 'start': '1730', 'is_overnight': False}, {'end': '1430', 'day': 1, 'start': '1200', 'is_overnight': False}, {'end': '2215', 'day': 1, 'start': '1730', 'is_overnight': False}, {'end': '1430', 'day': 2, 'start': '1200', 'is_overnight': False}, {'end': '2215', 'day': 2, 'start': '1730', 'is_overnight': False}, {'end': '1430', 'day': 3, 'start': '1200', 'is_overnight': False}, {'end': '2215', 'day': 3, 'start': '1730', 'is_overnight': False}, {'end': '1430', 'day': 4, 'start': '1200', 'is_overnight': False}, {'end': '2315', 'day': 4, 'start': '1730', 'is_overnight': False}, {'end': '1430', 'day': 5, 'start': '1200', 'is_overnight': False}, {'end': '2315', 'day': 5, 'start': '1730', 'is_overnight': False}, {'end': '1415', 'day': 6, 'start': '1200', 'is_overnight': False}, {'end': '2115', 'day': 6, 'start': '1700', 'is_overnight': False}], 'is_open_now': True}]}, 'b11': {'name': \"Ichabod's\", 'id': 'YigI9naNis2hvBtlkXLTvQ', 'hours': [{'open': [{'end': '2200', 'day': 0, 'start': '1700', 'is_overnight': False}, {'end': '2200', 'day': 1, 'start': '1700', 'is_overnight': False}, {'end': '2200', 'day': 2, 'start': '1700', 'is_overnight': False}, {'end': '2300', 'day': 3, 'start': '1700', 'is_overnight': False}, {'end': '2300', 'day': 4, 'start': '1700', 'is_overnight': False}, {'end': '1500', 'day': 5, 'start': '1100', 'is_overnight': False}, {'end': '2300', 'day': 5, 'start': '1730', 'is_overnight': False}, {'end': '1500', 'day': 6, 'start': '1100', 'is_overnight': False}, {'end': '2200', 'day': 6, 'start': '1730', 'is_overnight': False}], 'is_open_now': True}]}, 'b17': {'name': 'Cookshop', 'id': 'ssGhu4n3emZ9kEPVf371IQ', 'hours': [{'open': [{'end': '2300', 'day': 0, 'start': '0800', 'is_overnight': False}, {'end': '2300', 'day': 1, 'start': '0800', 'is_overnight': False}, {'end': '2300', 'day': 2, 'start': '0800', 'is_overnight': False}, {'end': '2300', 'day': 3, 'start': '0800', 'is_overnight': False}, {'end': '2300', 'day': 4, 'start': '0800', 'is_overnight': False}, {'end': '2300', 'day': 5, 'start': '1000', 'is_overnight': False}, {'end': '2200', 'day': 6, 'start': '1000', 'is_overnight': False}], 'is_open_now': True}]}, 'b18': {'name': 'Rahi', 'id': 'CO3lm5309asRY7XG5eXNgg', 'hours': [{'open': [{'end': '2300', 'day': 0, 'start': '1700', 'is_overnight': False}, {'end': '2300', 'day': 1, 'start': '1700', 'is_overnight': False}, {'end': '2300', 'day': 2, 'start': '1700', 'is_overnight': False}, {'end': '2300', 'day': 3, 'start': '1700', 'is_overnight': False}, {'end': '0000', 'day': 4, 'start': '1700', 'is_overnight': False}, {'end': '1500', 'day': 5, 'start': '1100', 'is_overnight': False}, {'end': '0000', 'day': 5, 'start': '1700', 'is_overnight': False}, {'end': '1500', 'day': 6, 'start': '1100', 'is_overnight': False}, {'end': '2300', 'day': 6, 'start': '1700', 'is_overnight': False}], 'is_open_now': True}]}, 'b14': {'name': \"Kellogg's NYC\", 'id': '39wDkbKhxsr0JrNQG8_JxQ', 'hours': [{'open': [{'end': '1800', 'day': 0, 'start': '0900', 'is_overnight': False}, {'end': '1800', 'day': 1, 'start': '0900', 'is_overnight': False}, {'end': '1800', 'day': 2, 'start': '0900', 'is_overnight': False}, {'end': '1800', 'day': 3, 'start': '0900', 'is_overnight': False}, {'end': '1800', 'day': 4, 'start': '0900', 'is_overnight': False}, {'end': '1000', 'day': 5, 'start': '0800', 'is_overnight': False}, {'end': '1000', 'day': 6, 'start': '0800', 'is_overnight': False}], 'is_open_now': False}]}, 'b1': {'name': 'The Grey Dog', 'id': 'QpkKEFHK5dz8XT-osEXgJw', 'hours': [{'open': [{'end': '2200', 'day': 0, 'start': '0700', 'is_overnight': False}, {'end': '2200', 'day': 1, 'start': '0700', 'is_overnight': False}, {'end': '2200', 'day': 2, 'start': '0700', 'is_overnight': False}, {'end': '2200', 'day': 3, 'start': '0700', 'is_overnight': False}, {'end': '2200', 'day': 4, 'start': '0700', 'is_overnight': False}, {'end': '2200', 'day': 5, 'start': '0800', 'is_overnight': False}, {'end': '2100', 'day': 6, 'start': '0800', 'is_overnight': False}], 'is_open_now': True}]}, 'b3': {'name': 'The Smith', 'id': 'k5NAz3-goMXKoUqPfOZ1Hw', 'hours': [{'open': [{'end': '0000', 'day': 0, 'start': '0800', 'is_overnight': False}, {'end': '0000', 'day': 1, 'start': '0800', 'is_overnight': False}, {'end': '0000', 'day': 2, 'start': '0800', 'is_overnight': False}, {'end': '0000', 'day': 3, 'start': '0800', 'is_overnight': False}, {'end': '0100', 'day': 4, 'start': '0800', 'is_overnight': True}, {'end': '0100', 'day': 5, 'start': '0930', 'is_overnight': True}, {'end': '0000', 'day': 6, 'start': '0930', 'is_overnight': False}], 'is_open_now': True}]}, 'b16': {'name': 'Balthazar Restaurant', 'id': 'KgpOYAG-r_eDsQXFXt0nnQ', 'hours': [{'open': [{'end': '0000', 'day': 0, 'start': '0730', 'is_overnight': False}, {'end': '0000', 'day': 1, 'start': '0730', 'is_overnight': False}, {'end': '0000', 'day': 2, 'start': '0730', 'is_overnight': False}, {'end': '0000', 'day': 3, 'start': '0730', 'is_overnight': False}, {'end': '0000', 'day': 4, 'start': '0730', 'is_overnight': False}, {'end': '0000', 'day': 5, 'start': '0800', 'is_overnight': False}, {'end': '0000', 'day': 6, 'start': '0800', 'is_overnight': False}], 'is_open_now': True}]}, 'b8': {'name': 'Sotto 13', 'id': 'yc4vsT-Q4Ej1_9hr94DxkQ', 'hours': [{'open': [{'end': '2200', 'day': 0, 'start': '1700', 'is_overnight': False}, {'end': '2200', 'day': 1, 'start': '1700', 'is_overnight': False}, {'end': '2200', 'day': 2, 'start': '1700', 'is_overnight': False}, {'end': '2200', 'day': 3, 'start': '1700', 'is_overnight': False}, {'end': '2300', 'day': 4, 'start': '1700', 'is_overnight': False}, {'end': '2300', 'day': 5, 'start': '1100', 'is_overnight': False}, {'end': '2130', 'day': 6, 'start': '1100', 'is_overnight': False}], 'is_open_now': True}]}, 'b7': {'name': 'Clinton Street Baking Company', 'id': 'nU4XBdvxDABXqZ6CnB8Dig', 'hours': [{'open': [{'end': '1600', 'day': 0, 'start': '0800', 'is_overnight': False}, {'end': '2300', 'day': 0, 'start': '1730', 'is_overnight': False}, {'end': '1600', 'day': 1, 'start': '0800', 'is_overnight': False}, {'end': '2300', 'day': 1, 'start': '1730', 'is_overnight': False}, {'end': '1600', 'day': 2, 'start': '0800', 'is_overnight': False}, {'end': '2300', 'day': 2, 'start': '1730', 'is_overnight': False}, {'end': '1600', 'day': 3, 'start': '0800', 'is_overnight': False}, {'end': '2300', 'day': 3, 'start': '1730', 'is_overnight': False}, {'end': '1600', 'day': 4, 'start': '0800', 'is_overnight': False}, {'end': '2300', 'day': 4, 'start': '1730', 'is_overnight': False}, {'end': '1600', 'day': 5, 'start': '0900', 'is_overnight': False}, {'end': '2300', 'day': 5, 'start': '1730', 'is_overnight': False}, {'end': '1700', 'day': 6, 'start': '0900', 'is_overnight': False}], 'is_open_now': True}]}, 'b13': {'name': 'Hu Kitchen', 'id': 'NH-5cniqVsAZQPOxhZ8IgQ', 'hours': [{'open': [{'end': '2130', 'day': 0, 'start': '0730', 'is_overnight': False}, {'end': '2130', 'day': 1, 'start': '0730', 'is_overnight': False}, {'end': '2130', 'day': 2, 'start': '0730', 'is_overnight': False}, {'end': '2130', 'day': 3, 'start': '0730', 'is_overnight': False}, {'end': '2130', 'day': 4, 'start': '0730', 'is_overnight': False}, {'end': '2130', 'day': 5, 'start': '0730', 'is_overnight': False}, {'end': '2130', 'day': 6, 'start': '0730', 'is_overnight': False}], 'is_open_now': True}]}}\n",
      "{'b5': {'name': 'MUD', 'id': 'S-WdvEU1X7J33whXWk1zmw', 'hours': [{'open': [{'end': '0000', 'day': 0, 'start': '0730', 'is_overnight': False}, {'end': '0000', 'day': 1, 'start': '0730', 'is_overnight': False}, {'end': '0000', 'day': 2, 'start': '0730', 'is_overnight': False}, {'end': '0000', 'day': 3, 'start': '0730', 'is_overnight': False}, {'end': '0000', 'day': 4, 'start': '0730', 'is_overnight': False}, {'end': '0000', 'day': 5, 'start': '0800', 'is_overnight': False}, {'end': '0000', 'day': 6, 'start': '0800', 'is_overnight': False}], 'is_open_now': True}]}, 'b4': {'name': 'Cask Bar & Kitchen', 'id': '1LIptXhtDh58vAA-QPFL4w', 'hours': [{'open': [{'end': '0200', 'day': 0, 'start': '1130', 'is_overnight': True}, {'end': '0200', 'day': 1, 'start': '1130', 'is_overnight': True}, {'end': '0200', 'day': 2, 'start': '1130', 'is_overnight': True}, {'end': '0359', 'day': 3, 'start': '1130', 'is_overnight': True}, {'end': '0359', 'day': 4, 'start': '1130', 'is_overnight': True}, {'end': '0359', 'day': 5, 'start': '1130', 'is_overnight': True}, {'end': '0200', 'day': 6, 'start': '1130', 'is_overnight': True}], 'is_open_now': True}]}, 'b12': {'name': 'Fresco Gelateria', 'id': 'M1OgZWqdol6fY5hfNa9oSw', 'hours': [{'open': [{'end': '2230', 'day': 0, 'start': '0800', 'is_overnight': False}, {'end': '2230', 'day': 1, 'start': '0800', 'is_overnight': False}, {'end': '2230', 'day': 2, 'start': '0800', 'is_overnight': False}, {'end': '2230', 'day': 3, 'start': '0800', 'is_overnight': False}, {'end': '2330', 'day': 4, 'start': '0800', 'is_overnight': False}, {'end': '2330', 'day': 5, 'start': '0800', 'is_overnight': False}, {'end': '2230', 'day': 6, 'start': '0800', 'is_overnight': False}], 'is_open_now': True}]}, 'b6': {'name': 'Friend of A Farmer', 'id': 'EYH4FiA2phvYg73Jjw1KSA', 'hours': [{'open': [{'end': '2200', 'day': 0, 'start': '0800', 'is_overnight': False}, {'end': '2200', 'day': 1, 'start': '0800', 'is_overnight': False}, {'end': '2200', 'day': 2, 'start': '0800', 'is_overnight': False}, {'end': '2200', 'day': 3, 'start': '0800', 'is_overnight': False}, {'end': '2300', 'day': 4, 'start': '0800', 'is_overnight': False}, {'end': '2300', 'day': 5, 'start': '0800', 'is_overnight': False}, {'end': '2200', 'day': 6, 'start': '0800', 'is_overnight': False}], 'is_open_now': True}]}, 'b2': {'name': 'Ofrenda', 'id': '9_CEU7Wmvmwlyvqr-PJD6w', 'hours': [{'open': [{'end': '2300', 'day': 0, 'start': '1600', 'is_overnight': False}, {'end': '2300', 'day': 1, 'start': '1600', 'is_overnight': False}, {'end': '2300', 'day': 2, 'start': '1600', 'is_overnight': False}, {'end': '0100', 'day': 3, 'start': '1600', 'is_overnight': True}, {'end': '0100', 'day': 4, 'start': '1600', 'is_overnight': True}, {'end': '0100', 'day': 5, 'start': '1100', 'is_overnight': True}, {'end': '2300', 'day': 6, 'start': '1100', 'is_overnight': False}], 'is_open_now': True}]}, 'b0': {'name': 'The Breslin', 'id': 'GxqEVZUgz8xophUos_V3eQ', 'hours': [{'open': [{'end': '0200', 'day': 0, 'start': '0700', 'is_overnight': True}, {'end': '0200', 'day': 1, 'start': '0700', 'is_overnight': True}, {'end': '0200', 'day': 2, 'start': '0700', 'is_overnight': True}, {'end': '0200', 'day': 3, 'start': '0700', 'is_overnight': True}, {'end': '0200', 'day': 4, 'start': '0700', 'is_overnight': True}, {'end': '0200', 'day': 5, 'start': '0700', 'is_overnight': True}, {'end': '0200', 'day': 6, 'start': '0700', 'is_overnight': True}], 'is_open_now': True}]}, 'b9': {'name': 'Penelope - Re-opening February 2019', 'id': 'NwrqmFGO-utVOG-eeDDuXg', 'hours': [{'open': [{'end': '2200', 'day': 0, 'start': '0800', 'is_overnight': False}, {'end': '2200', 'day': 1, 'start': '0800', 'is_overnight': False}, {'end': '2200', 'day': 2, 'start': '0800', 'is_overnight': False}, {'end': '2200', 'day': 3, 'start': '0800', 'is_overnight': False}, {'end': '2200', 'day': 4, 'start': '0800', 'is_overnight': False}, {'end': '2200', 'day': 5, 'start': '0800', 'is_overnight': False}, {'end': '2200', 'day': 6, 'start': '0800', 'is_overnight': False}], 'is_open_now': True}]}, 'b10': {'name': \"Big Daddy's\", 'id': 'lNGdiIQwGOGsXAKvRMVC0w', 'hours': [{'open': [{'end': '0000', 'day': 0, 'start': '0800', 'is_overnight': False}, {'end': '0000', 'day': 1, 'start': '0800', 'is_overnight': False}, {'end': '0000', 'day': 2, 'start': '0800', 'is_overnight': False}, {'end': '0000', 'day': 3, 'start': '0800', 'is_overnight': False}, {'end': '0500', 'day': 4, 'start': '0800', 'is_overnight': True}, {'end': '0500', 'day': 5, 'start': '0800', 'is_overnight': True}, {'end': '2300', 'day': 6, 'start': '0800', 'is_overnight': False}], 'is_open_now': True}]}, 'b11': {'name': 'Bosie Tea Parlor', 'id': '9HkUue6kUfTIQUlLynWLMQ', 'hours': [{'open': [{'end': '2200', 'day': 0, 'start': '0900', 'is_overnight': False}, {'end': '2200', 'day': 1, 'start': '0900', 'is_overnight': False}, {'end': '2200', 'day': 2, 'start': '0900', 'is_overnight': False}, {'end': '2200', 'day': 3, 'start': '0900', 'is_overnight': False}, {'end': '0000', 'day': 4, 'start': '0900', 'is_overnight': False}, {'end': '0000', 'day': 5, 'start': '1000', 'is_overnight': False}, {'end': '2200', 'day': 6, 'start': '1000', 'is_overnight': False}], 'is_open_now': True}]}, 'b14': {'name': \"Rosemary's\", 'id': 'Cnqy9w1BFXZFEaChfox0ow', 'hours': [{'open': [{'end': '2300', 'day': 0, 'start': '0800', 'is_overnight': False}, {'end': '2300', 'day': 1, 'start': '0800', 'is_overnight': False}, {'end': '2300', 'day': 2, 'start': '0800', 'is_overnight': False}, {'end': '2300', 'day': 3, 'start': '0800', 'is_overnight': False}, {'end': '0000', 'day': 4, 'start': '0800', 'is_overnight': False}, {'end': '0000', 'day': 5, 'start': '1000', 'is_overnight': False}, {'end': '2300', 'day': 6, 'start': '1000', 'is_overnight': False}], 'is_open_now': True}]}, 'b1': {'name': 'Tartine', 'id': '0Q13lJ3OHXOuBVpN6jeTjw', 'hours': [{'open': [{'end': '2200', 'day': 0, 'start': '1730', 'is_overnight': False}, {'end': '1600', 'day': 1, 'start': '0930', 'is_overnight': False}, {'end': '2230', 'day': 1, 'start': '1730', 'is_overnight': False}, {'end': '1600', 'day': 2, 'start': '0930', 'is_overnight': False}, {'end': '2230', 'day': 2, 'start': '1730', 'is_overnight': False}, {'end': '1600', 'day': 3, 'start': '0930', 'is_overnight': False}, {'end': '2230', 'day': 3, 'start': '1730', 'is_overnight': False}, {'end': '1600', 'day': 4, 'start': '0930', 'is_overnight': False}, {'end': '2230', 'day': 4, 'start': '1730', 'is_overnight': False}, {'end': '1600', 'day': 5, 'start': '1000', 'is_overnight': False}, {'end': '2230', 'day': 5, 'start': '1730', 'is_overnight': False}, {'end': '1600', 'day': 6, 'start': '1000', 'is_overnight': False}, {'end': '2200', 'day': 6, 'start': '1730', 'is_overnight': False}], 'is_open_now': True}]}, 'b3': {'name': 'The Spotted Pig', 'id': '3LNcgFUGdwJil-KDQPZmdQ', 'hours': [{'open': [{'end': '1700', 'day': 0, 'start': '1200', 'is_overnight': False}, {'end': '0200', 'day': 0, 'start': '1730', 'is_overnight': True}, {'end': '1700', 'day': 1, 'start': '1200', 'is_overnight': False}, {'end': '0200', 'day': 1, 'start': '1730', 'is_overnight': True}, {'end': '1700', 'day': 2, 'start': '1200', 'is_overnight': False}, {'end': '0200', 'day': 2, 'start': '1730', 'is_overnight': True}, {'end': '1700', 'day': 3, 'start': '1200', 'is_overnight': False}, {'end': '0200', 'day': 3, 'start': '1730', 'is_overnight': True}, {'end': '1700', 'day': 4, 'start': '1200', 'is_overnight': False}, {'end': '0200', 'day': 4, 'start': '1730', 'is_overnight': True}, {'end': '1700', 'day': 5, 'start': '1100', 'is_overnight': False}, {'end': '0200', 'day': 5, 'start': '1730', 'is_overnight': True}, {'end': '1700', 'day': 6, 'start': '1100', 'is_overnight': False}, {'end': '0200', 'day': 6, 'start': '1730', 'is_overnight': True}], 'is_open_now': True}]}, 'b8': {'name': 'Calle Dao - Bryant Park', 'id': 'LQHegfNHe7ylY3bocrFlpg', 'hours': [{'open': [{'end': '2300', 'day': 0, 'start': '1100', 'is_overnight': False}, {'end': '2300', 'day': 1, 'start': '1100', 'is_overnight': False}, {'end': '2300', 'day': 2, 'start': '1100', 'is_overnight': False}, {'end': '0000', 'day': 3, 'start': '1100', 'is_overnight': False}, {'end': '0000', 'day': 4, 'start': '1100', 'is_overnight': False}, {'end': '2300', 'day': 5, 'start': '1100', 'is_overnight': False}, {'end': '2200', 'day': 6, 'start': '1100', 'is_overnight': False}], 'is_open_now': True}]}, 'b7': {'name': 'Nai Tapas', 'id': 'iTj5T_jPYvznd1QTgs7NZw', 'hours': [{'open': [{'end': '2300', 'day': 0, 'start': '1200', 'is_overnight': False}, {'end': '2300', 'day': 1, 'start': '1200', 'is_overnight': False}, {'end': '2300', 'day': 2, 'start': '1200', 'is_overnight': False}, {'end': '0000', 'day': 3, 'start': '1200', 'is_overnight': False}, {'end': '0000', 'day': 4, 'start': '1200', 'is_overnight': False}, {'end': '0000', 'day': 5, 'start': '1200', 'is_overnight': False}, {'end': '2200', 'day': 6, 'start': '1200', 'is_overnight': False}], 'is_open_now': True}]}, 'b13': {'name': 'Telegraphe Cafe', 'id': 'N6_qSesaVVrnZ5VDGFpCrg', 'hours': [{'open': [{'end': '1830', 'day': 0, 'start': '0730', 'is_overnight': False}, {'end': '1830', 'day': 1, 'start': '0730', 'is_overnight': False}, {'end': '1830', 'day': 2, 'start': '0730', 'is_overnight': False}, {'end': '1830', 'day': 3, 'start': '0730', 'is_overnight': False}, {'end': '1830', 'day': 4, 'start': '0730', 'is_overnight': False}, {'end': '1800', 'day': 5, 'start': '0930', 'is_overnight': False}, {'end': '1800', 'day': 6, 'start': '0930', 'is_overnight': False}], 'is_open_now': True}]}}\n"
     ]
    }
   ],
   "source": [
    "addr = \"97 5th Avenue New York, NY\"\n",
    "entities = fetch_businesses_by_categories(api=api, \n",
    "                                            location=addr, \n",
    "                                            categories=[\"chinese\", \"speakeasies\", \"breakfast_brunch\"],\n",
    "                                            num_businesses_per_category=40,\n",
    "                                            as_entities=True,\n",
    "                                            request_separately=True)"
   ]
  },
  {
   "cell_type": "code",
   "execution_count": 8,
   "metadata": {
    "collapsed": false
   },
   "outputs": [],
   "source": [
    "seq = None\n",
    "G = build_entity_graph(entities, seq, min_rating=4.0, max_distance=2000, min_dollar_signs=1, max_dollar_signs=2)\n",
    "u = UberConstraints()\n",
    "b = BooleanConstraints()\n",
    "se = StateExtractors()\n",
    "sc = StateConstraints()\n",
    "ee = EdgeExtractors()\n",
    "neighbor_constraint = b.bool_and(\n",
    "    [\n",
    "        b.bool_less_than(se.get_attr(\"num_prev_states\"), se.const(1)),\n",
    "        u.follows_cat_sequence([set([x]) for x in [\"breakfast_brunch\"]]),\n",
    "        b.bool_less_than(ee.get_distance(use_miles=True), se.const(10.75)),\n",
    "        sc.no_repeat_visits()\n",
    "    ]\n",
    ")\n",
    "\n",
    "def time_spent_fn(entity):\n",
    "    if \"movietheaters\" in entity.entity.categories:\n",
    "        return [datetime.timedelta(hours=3)]\n",
    "    return [datetime.timedelta(hours=1.5)]\n",
    "\n",
    "done_constraint = b.bool_equals(se.get_attr(\"num_prev_states\"), se.const(0))\n",
    "init_constraint = sc.curr_state_category_in(set([\"breakfast_brunch\"]))\n",
    "\n",
    "date_start = datetime.datetime(2019, 3, 2, 12, 30)\n",
    "initial_states = build_initial_states(G, [date_start], init_constraint)\n",
    "\n",
    "neighbor_fn = build_neighbor_state_fn(neighbor_constraint, time_spent_fn=time_spent_fn)\n",
    "\n",
    "success_fn = build_success_state_fn(done_constraint)\n"
   ]
  },
  {
   "cell_type": "code",
   "execution_count": 9,
   "metadata": {
    "collapsed": false
   },
   "outputs": [],
   "source": [
    "results = list(generate_plans(G, initial_states, neighbor_fn, success_fn, None))\n",
    "results = sort_plans_by(results, lambda x: plan_total_distance(G, x))"
   ]
  },
  {
   "cell_type": "code",
   "execution_count": 10,
   "metadata": {
    "collapsed": false
   },
   "outputs": [
    {
     "data": {
      "text/html": [
       "<img src=\"https://s3-media4.fl.yelpcdn.com/bphoto/VWVDXCpZcx80WNs_9dBnWQ/o.jpg\" style=\"width:80px; display:inline\"></img><a href=\"https://www.yelp.com/biz/calle-dao-bryant-park-new-york?adjust_creative=UD_Or98loVGYShHgiHFW2Q&utm_campaign=yelp_api_v3&utm_medium=api_v3_business_search&utm_source=UD_Or98loVGYShHgiHFW2Q\">Calle Dao - Bryant Park</a> (12:30 PM - 02:00 PM) <a href=\"https://www.google.com/maps/dir/?api=1&origin=Calle Dao - Bryant Park 38 W 39th St New York, NY 10018&destination=Calle Dao - Bryant Park 38 W 39th St New York, NY 10018&travelmode=walking\">(Maps Link)</a>"
      ],
      "text/plain": [
       "<IPython.core.display.HTML object>"
      ]
     },
     "metadata": {},
     "output_type": "display_data"
    },
    {
     "name": "stdout",
     "output_type": "stream",
     "text": [
      "\n"
     ]
    },
    {
     "data": {
      "text/html": [
       "<img src=\"https://s3-media1.fl.yelpcdn.com/bphoto/EZ7LUKCAMeELqlfeBiUkIQ/o.jpg\" style=\"width:80px; display:inline\"></img><a href=\"https://www.yelp.com/biz/ichabods-new-york?adjust_creative=UD_Or98loVGYShHgiHFW2Q&utm_campaign=yelp_api_v3&utm_medium=api_v3_business_search&utm_source=UD_Or98loVGYShHgiHFW2Q\">Ichabod's</a> (12:30 PM - 02:00 PM) <a href=\"https://www.google.com/maps/dir/?api=1&origin=Ichabod's 15 Irving Pl New York, NY 10003&destination=Ichabod's 15 Irving Pl New York, NY 10003&travelmode=walking\">(Maps Link)</a>"
      ],
      "text/plain": [
       "<IPython.core.display.HTML object>"
      ]
     },
     "metadata": {},
     "output_type": "display_data"
    },
    {
     "name": "stdout",
     "output_type": "stream",
     "text": [
      "\n"
     ]
    },
    {
     "data": {
      "text/html": [
       "<img src=\"https://s3-media2.fl.yelpcdn.com/bphoto/FW9ZtnLzYXITP6frUZJuaw/o.jpg\" style=\"width:80px; display:inline\"></img><a href=\"https://www.yelp.com/biz/the-grey-dog-union-square-new-york?adjust_creative=UD_Or98loVGYShHgiHFW2Q&utm_campaign=yelp_api_v3&utm_medium=api_v3_business_search&utm_source=UD_Or98loVGYShHgiHFW2Q\">The Grey Dog - Union Square</a> (12:30 PM - 02:00 PM) <a href=\"https://www.google.com/maps/dir/?api=1&origin=The Grey Dog - Union Square 90 University Pl New York, NY 10003&destination=The Grey Dog - Union Square 90 University Pl New York, NY 10003&travelmode=walking\">(Maps Link)</a>"
      ],
      "text/plain": [
       "<IPython.core.display.HTML object>"
      ]
     },
     "metadata": {},
     "output_type": "display_data"
    },
    {
     "name": "stdout",
     "output_type": "stream",
     "text": [
      "\n"
     ]
    },
    {
     "data": {
      "text/html": [
       "<img src=\"https://s3-media1.fl.yelpcdn.com/bphoto/Xmx277kXCHxJVMqivplX4Q/o.jpg\" style=\"width:80px; display:inline\"></img><a href=\"https://www.yelp.com/biz/westville-chelsea-new-york-2?adjust_creative=UD_Or98loVGYShHgiHFW2Q&utm_campaign=yelp_api_v3&utm_medium=api_v3_business_search&utm_source=UD_Or98loVGYShHgiHFW2Q\">Westville Chelsea</a> (12:30 PM - 02:00 PM) <a href=\"https://www.google.com/maps/dir/?api=1&origin=Westville Chelsea 246 W 18th St New York, NY 10011&destination=Westville Chelsea 246 W 18th St New York, NY 10011&travelmode=walking\">(Maps Link)</a>"
      ],
      "text/plain": [
       "<IPython.core.display.HTML object>"
      ]
     },
     "metadata": {},
     "output_type": "display_data"
    },
    {
     "name": "stdout",
     "output_type": "stream",
     "text": [
      "\n"
     ]
    },
    {
     "data": {
      "text/html": [
       "<img src=\"https://s3-media3.fl.yelpcdn.com/bphoto/xarYYMOHDJSdKDnx4voM9Q/o.jpg\" style=\"width:80px; display:inline\"></img><a href=\"https://www.yelp.com/biz/ofrenda-new-york?adjust_creative=UD_Or98loVGYShHgiHFW2Q&utm_campaign=yelp_api_v3&utm_medium=api_v3_business_search&utm_source=UD_Or98loVGYShHgiHFW2Q\">Ofrenda</a> (12:30 PM - 02:00 PM) <a href=\"https://www.google.com/maps/dir/?api=1&origin=Ofrenda 113 7th Ave S New York, NY 10014&destination=Ofrenda 113 7th Ave S New York, NY 10014&travelmode=walking\">(Maps Link)</a>"
      ],
      "text/plain": [
       "<IPython.core.display.HTML object>"
      ]
     },
     "metadata": {},
     "output_type": "display_data"
    },
    {
     "name": "stdout",
     "output_type": "stream",
     "text": [
      "\n"
     ]
    },
    {
     "data": {
      "text/html": [
       "<img src=\"https://s3-media3.fl.yelpcdn.com/bphoto/PgQtbdoMTIaWFstO1wvJLQ/o.jpg\" style=\"width:80px; display:inline\"></img><a href=\"https://www.yelp.com/biz/cookshop-new-york?adjust_creative=UD_Or98loVGYShHgiHFW2Q&utm_campaign=yelp_api_v3&utm_medium=api_v3_business_search&utm_source=UD_Or98loVGYShHgiHFW2Q\">Cookshop</a> (12:30 PM - 02:00 PM) <a href=\"https://www.google.com/maps/dir/?api=1&origin=Cookshop 156 10th Ave New York, NY 10011&destination=Cookshop 156 10th Ave New York, NY 10011&travelmode=walking\">(Maps Link)</a>"
      ],
      "text/plain": [
       "<IPython.core.display.HTML object>"
      ]
     },
     "metadata": {},
     "output_type": "display_data"
    },
    {
     "name": "stdout",
     "output_type": "stream",
     "text": [
      "\n"
     ]
    },
    {
     "data": {
      "text/html": [
       "<img src=\"https://s3-media4.fl.yelpcdn.com/bphoto/v-Q1v7y9q8FbDCzgwAa8Xw/o.jpg\" style=\"width:80px; display:inline\"></img><a href=\"https://www.yelp.com/biz/her-name-is-han-new-york-3?adjust_creative=UD_Or98loVGYShHgiHFW2Q&utm_campaign=yelp_api_v3&utm_medium=api_v3_business_search&utm_source=UD_Or98loVGYShHgiHFW2Q\">Her Name Is Han</a> (12:30 PM - 02:00 PM) <a href=\"https://www.google.com/maps/dir/?api=1&origin=Her Name Is Han 17 E 31st St New York, NY 10016&destination=Her Name Is Han 17 E 31st St New York, NY 10016&travelmode=walking\">(Maps Link)</a>"
      ],
      "text/plain": [
       "<IPython.core.display.HTML object>"
      ]
     },
     "metadata": {},
     "output_type": "display_data"
    },
    {
     "name": "stdout",
     "output_type": "stream",
     "text": [
      "\n"
     ]
    },
    {
     "data": {
      "text/html": [
       "<img src=\"https://s3-media2.fl.yelpcdn.com/bphoto/l4peUZMi7CLFcG3w3jnYvQ/o.jpg\" style=\"width:80px; display:inline\"></img><a href=\"https://www.yelp.com/biz/olio-e-pi%C3%BA-new-york-3?adjust_creative=UD_Or98loVGYShHgiHFW2Q&utm_campaign=yelp_api_v3&utm_medium=api_v3_business_search&utm_source=UD_Or98loVGYShHgiHFW2Q\">Olio e Piú</a> (12:30 PM - 02:00 PM) <a href=\"https://www.google.com/maps/dir/?api=1&origin=Olio e Piú 3 Greenwich Ave New York, NY 10014&destination=Olio e Piú 3 Greenwich Ave New York, NY 10014&travelmode=walking\">(Maps Link)</a>"
      ],
      "text/plain": [
       "<IPython.core.display.HTML object>"
      ]
     },
     "metadata": {},
     "output_type": "display_data"
    },
    {
     "name": "stdout",
     "output_type": "stream",
     "text": [
      "\n"
     ]
    },
    {
     "data": {
      "text/html": [
       "<img src=\"https://s3-media1.fl.yelpcdn.com/bphoto/qCBfKofTwlhezGYsg39Otg/o.jpg\" style=\"width:80px; display:inline\"></img><a href=\"https://www.yelp.com/biz/the-grey-dog-new-york-5?adjust_creative=UD_Or98loVGYShHgiHFW2Q&utm_campaign=yelp_api_v3&utm_medium=api_v3_business_search&utm_source=UD_Or98loVGYShHgiHFW2Q\">The Grey Dog</a> (12:30 PM - 02:00 PM) <a href=\"https://www.google.com/maps/dir/?api=1&origin=The Grey Dog 242 W 16th St New York, NY 10011&destination=The Grey Dog 242 W 16th St New York, NY 10011&travelmode=walking\">(Maps Link)</a>"
      ],
      "text/plain": [
       "<IPython.core.display.HTML object>"
      ]
     },
     "metadata": {},
     "output_type": "display_data"
    },
    {
     "name": "stdout",
     "output_type": "stream",
     "text": [
      "\n"
     ]
    },
    {
     "data": {
      "text/html": [
       "<img src=\"https://s3-media2.fl.yelpcdn.com/bphoto/CshY4h5dQck2Giin-TZa6Q/o.jpg\" style=\"width:80px; display:inline\"></img><a href=\"https://www.yelp.com/biz/cask-bar-and-kitchen-new-york?adjust_creative=UD_Or98loVGYShHgiHFW2Q&utm_campaign=yelp_api_v3&utm_medium=api_v3_business_search&utm_source=UD_Or98loVGYShHgiHFW2Q\">Cask Bar & Kitchen</a> (12:30 PM - 02:00 PM) <a href=\"https://www.google.com/maps/dir/?api=1&origin=Cask Bar & Kitchen 167 E 33rd St New York, NY 10016&destination=Cask Bar & Kitchen 167 E 33rd St New York, NY 10016&travelmode=walking\">(Maps Link)</a>"
      ],
      "text/plain": [
       "<IPython.core.display.HTML object>"
      ]
     },
     "metadata": {},
     "output_type": "display_data"
    },
    {
     "name": "stdout",
     "output_type": "stream",
     "text": [
      "\n"
     ]
    },
    {
     "data": {
      "text/html": [
       "<img src=\"https://s3-media2.fl.yelpcdn.com/bphoto/AlQfUaj7fVkQTVFoq2RJnQ/o.jpg\" style=\"width:80px; display:inline\"></img><a href=\"https://www.yelp.com/biz/telegraphe-cafe-new-york-3?adjust_creative=UD_Or98loVGYShHgiHFW2Q&utm_campaign=yelp_api_v3&utm_medium=api_v3_business_search&utm_source=UD_Or98loVGYShHgiHFW2Q\">Telegraphe Cafe</a> (12:30 PM - 02:00 PM) <a href=\"https://www.google.com/maps/dir/?api=1&origin=Telegraphe Cafe 107 W 18th St New York, NY 10011&destination=Telegraphe Cafe 107 W 18th St New York, NY 10011&travelmode=walking\">(Maps Link)</a>"
      ],
      "text/plain": [
       "<IPython.core.display.HTML object>"
      ]
     },
     "metadata": {},
     "output_type": "display_data"
    },
    {
     "name": "stdout",
     "output_type": "stream",
     "text": [
      "\n"
     ]
    },
    {
     "data": {
      "text/html": [
       "<img src=\"https://s3-media2.fl.yelpcdn.com/bphoto/hUTrABJ4rEdz9YvjFTTWFA/o.jpg\" style=\"width:80px; display:inline\"></img><a href=\"https://www.yelp.com/biz/brooklyn-bagel-and-coffee-company-new-york-2?adjust_creative=UD_Or98loVGYShHgiHFW2Q&utm_campaign=yelp_api_v3&utm_medium=api_v3_business_search&utm_source=UD_Or98loVGYShHgiHFW2Q\">Brooklyn Bagel & Coffee Company</a> (12:30 PM - 02:00 PM) <a href=\"https://www.google.com/maps/dir/?api=1&origin=Brooklyn Bagel & Coffee Company 286 8th Ave New York, NY 10001&destination=Brooklyn Bagel & Coffee Company 286 8th Ave New York, NY 10001&travelmode=walking\">(Maps Link)</a>"
      ],
      "text/plain": [
       "<IPython.core.display.HTML object>"
      ]
     },
     "metadata": {},
     "output_type": "display_data"
    },
    {
     "name": "stdout",
     "output_type": "stream",
     "text": [
      "\n"
     ]
    },
    {
     "data": {
      "text/html": [
       "<img src=\"https://s3-media1.fl.yelpcdn.com/bphoto/Q5yrDsPb-Tb7eFQ5s_UB3w/o.jpg\" style=\"width:80px; display:inline\"></img><a href=\"https://www.yelp.com/biz/jane-new-york-2?adjust_creative=UD_Or98loVGYShHgiHFW2Q&utm_campaign=yelp_api_v3&utm_medium=api_v3_business_search&utm_source=UD_Or98loVGYShHgiHFW2Q\">Jane</a> (12:30 PM - 02:00 PM) <a href=\"https://www.google.com/maps/dir/?api=1&origin=Jane 100 W Houston St New York, NY 10012&destination=Jane 100 W Houston St New York, NY 10012&travelmode=walking\">(Maps Link)</a>"
      ],
      "text/plain": [
       "<IPython.core.display.HTML object>"
      ]
     },
     "metadata": {},
     "output_type": "display_data"
    },
    {
     "name": "stdout",
     "output_type": "stream",
     "text": [
      "\n"
     ]
    },
    {
     "data": {
      "text/html": [
       "<img src=\"https://s3-media4.fl.yelpcdn.com/bphoto/1p3wZ-IVD35TMiYifs5R2A/o.jpg\" style=\"width:80px; display:inline\"></img><a href=\"https://www.yelp.com/biz/johnys-luncheonette-new-york?adjust_creative=UD_Or98loVGYShHgiHFW2Q&utm_campaign=yelp_api_v3&utm_medium=api_v3_business_search&utm_source=UD_Or98loVGYShHgiHFW2Q\">Johny's Luncheonette</a> (12:30 PM - 02:00 PM) <a href=\"https://www.google.com/maps/dir/?api=1&origin=Johny's Luncheonette 124 W 25th St New York, NY 10001&destination=Johny's Luncheonette 124 W 25th St New York, NY 10001&travelmode=walking\">(Maps Link)</a>"
      ],
      "text/plain": [
       "<IPython.core.display.HTML object>"
      ]
     },
     "metadata": {},
     "output_type": "display_data"
    },
    {
     "name": "stdout",
     "output_type": "stream",
     "text": [
      "\n"
     ]
    },
    {
     "data": {
      "text/html": [
       "<img src=\"https://s3-media1.fl.yelpcdn.com/bphoto/gcfu7rVH_F9puznQwnSgGw/o.jpg\" style=\"width:80px; display:inline\"></img><a href=\"https://www.yelp.com/biz/tartine-new-york?adjust_creative=UD_Or98loVGYShHgiHFW2Q&utm_campaign=yelp_api_v3&utm_medium=api_v3_business_search&utm_source=UD_Or98loVGYShHgiHFW2Q\">Tartine</a> (12:30 PM - 02:00 PM) <a href=\"https://www.google.com/maps/dir/?api=1&origin=Tartine 253 W 11th St New York, NY 10014&destination=Tartine 253 W 11th St New York, NY 10014&travelmode=walking\">(Maps Link)</a>"
      ],
      "text/plain": [
       "<IPython.core.display.HTML object>"
      ]
     },
     "metadata": {},
     "output_type": "display_data"
    },
    {
     "name": "stdout",
     "output_type": "stream",
     "text": [
      "\n"
     ]
    },
    {
     "data": {
      "text/html": [
       "<img src=\"https://s3-media3.fl.yelpcdn.com/bphoto/4kPxqv9r4eK3ORaKJMmbHA/o.jpg\" style=\"width:80px; display:inline\"></img><a href=\"https://www.yelp.com/biz/sotto-13-new-york-7?adjust_creative=UD_Or98loVGYShHgiHFW2Q&utm_campaign=yelp_api_v3&utm_medium=api_v3_business_search&utm_source=UD_Or98loVGYShHgiHFW2Q\">Sotto 13</a> (12:30 PM - 02:00 PM) <a href=\"https://www.google.com/maps/dir/?api=1&origin=Sotto 13 140 W 13th St New York, NY 10011&destination=Sotto 13 140 W 13th St New York, NY 10011&travelmode=walking\">(Maps Link)</a>"
      ],
      "text/plain": [
       "<IPython.core.display.HTML object>"
      ]
     },
     "metadata": {},
     "output_type": "display_data"
    },
    {
     "name": "stdout",
     "output_type": "stream",
     "text": [
      "\n"
     ]
    },
    {
     "data": {
      "text/html": [
       "<img src=\"https://s3-media1.fl.yelpcdn.com/bphoto/QI4c9-p60ZEXOU8XSHNv-A/o.jpg\" style=\"width:80px; display:inline\"></img><a href=\"https://www.yelp.com/biz/friedmans-new-york-59?adjust_creative=UD_Or98loVGYShHgiHFW2Q&utm_campaign=yelp_api_v3&utm_medium=api_v3_business_search&utm_source=UD_Or98loVGYShHgiHFW2Q\">Friedman's</a> (12:30 PM - 02:00 PM) <a href=\"https://www.google.com/maps/dir/?api=1&origin=Friedman's 132 W 31st St New York, NY 10001&destination=Friedman's 132 W 31st St New York, NY 10001&travelmode=walking\">(Maps Link)</a>"
      ],
      "text/plain": [
       "<IPython.core.display.HTML object>"
      ]
     },
     "metadata": {},
     "output_type": "display_data"
    },
    {
     "name": "stdout",
     "output_type": "stream",
     "text": [
      "\n"
     ]
    },
    {
     "data": {
      "text/html": [
       "<img src=\"https://s3-media2.fl.yelpcdn.com/bphoto/9-8DVzhwfzFS5GUCq3O6NA/o.jpg\" style=\"width:80px; display:inline\"></img><a href=\"https://www.yelp.com/biz/best-bagel-and-coffee-new-york?adjust_creative=UD_Or98loVGYShHgiHFW2Q&utm_campaign=yelp_api_v3&utm_medium=api_v3_business_search&utm_source=UD_Or98loVGYShHgiHFW2Q\">Best Bagel & Coffee</a> (12:30 PM - 02:00 PM) <a href=\"https://www.google.com/maps/dir/?api=1&origin=Best Bagel & Coffee 225 W 35th St New York, NY 10001&destination=Best Bagel & Coffee 225 W 35th St New York, NY 10001&travelmode=walking\">(Maps Link)</a>"
      ],
      "text/plain": [
       "<IPython.core.display.HTML object>"
      ]
     },
     "metadata": {},
     "output_type": "display_data"
    },
    {
     "name": "stdout",
     "output_type": "stream",
     "text": [
      "\n"
     ]
    },
    {
     "data": {
      "text/html": [
       "<img src=\"https://s3-media2.fl.yelpcdn.com/bphoto/UqDDgLT6U1jerUPc4rbFkQ/o.jpg\" style=\"width:80px; display:inline\"></img><a href=\"https://www.yelp.com/biz/fresco-gelateria-new-york-5?adjust_creative=UD_Or98loVGYShHgiHFW2Q&utm_campaign=yelp_api_v3&utm_medium=api_v3_business_search&utm_source=UD_Or98loVGYShHgiHFW2Q\">Fresco Gelateria</a> (12:30 PM - 02:00 PM) <a href=\"https://www.google.com/maps/dir/?api=1&origin=Fresco Gelateria 138 2nd Ave New York, NY 10003&destination=Fresco Gelateria 138 2nd Ave New York, NY 10003&travelmode=walking\">(Maps Link)</a>"
      ],
      "text/plain": [
       "<IPython.core.display.HTML object>"
      ]
     },
     "metadata": {},
     "output_type": "display_data"
    },
    {
     "name": "stdout",
     "output_type": "stream",
     "text": [
      "\n"
     ]
    },
    {
     "data": {
      "text/html": [
       "<img src=\"https://s3-media3.fl.yelpcdn.com/bphoto/742_d5m74Jc0HSztyGL7vw/o.jpg\" style=\"width:80px; display:inline\"></img><a href=\"https://www.yelp.com/biz/the-smith-new-york-7?adjust_creative=UD_Or98loVGYShHgiHFW2Q&utm_campaign=yelp_api_v3&utm_medium=api_v3_business_search&utm_source=UD_Or98loVGYShHgiHFW2Q\">The Smith</a> (12:30 PM - 02:00 PM) <a href=\"https://www.google.com/maps/dir/?api=1&origin=The Smith 1150 Broadway New York, NY 10010&destination=The Smith 1150 Broadway New York, NY 10010&travelmode=walking\">(Maps Link)</a>"
      ],
      "text/plain": [
       "<IPython.core.display.HTML object>"
      ]
     },
     "metadata": {},
     "output_type": "display_data"
    },
    {
     "name": "stdout",
     "output_type": "stream",
     "text": [
      "\n"
     ]
    },
    {
     "data": {
      "text/html": [
       "<img src=\"https://s3-media1.fl.yelpcdn.com/bphoto/DWHdizJ9bKbXN4yq6nbwAA/o.jpg\" style=\"width:80px; display:inline\"></img><a href=\"https://www.yelp.com/biz/clinton-street-baking-company-new-york-5?adjust_creative=UD_Or98loVGYShHgiHFW2Q&utm_campaign=yelp_api_v3&utm_medium=api_v3_business_search&utm_source=UD_Or98loVGYShHgiHFW2Q\">Clinton Street Baking Company</a> (12:30 PM - 02:00 PM) <a href=\"https://www.google.com/maps/dir/?api=1&origin=Clinton Street Baking Company 4 Clinton St New York, NY 10002&destination=Clinton Street Baking Company 4 Clinton St New York, NY 10002&travelmode=walking\">(Maps Link)</a>"
      ],
      "text/plain": [
       "<IPython.core.display.HTML object>"
      ]
     },
     "metadata": {},
     "output_type": "display_data"
    },
    {
     "name": "stdout",
     "output_type": "stream",
     "text": [
      "\n"
     ]
    }
   ],
   "source": [
    "def url_ver(entity):\n",
    "    img = '<img src=\"{}\" style=\"width:80px; display:inline\"></img>'.format(entity.image_url)\n",
    "    return img +  '<a href=\"{}\">{}</a>'.format(entity.url, entity.name)\n",
    "\n",
    "def print_results(results):\n",
    "    # t_format = \"%m/%d/%y %B %Y %H:%M\"\n",
    "    t_format = \"%I:%M %p\"\n",
    "    for state in results:\n",
    "        all_prev = state.prev_state_list()\n",
    "        maps_link = build_maps_link([s.node.entity.name + \" \" + s.node.get_address() for s in all_prev] + [state.node.entity.name + \" \" + state.node.get_address()], \"walking\")\n",
    "        maps_link = '<a href=\"{}\">(Maps Link)</a>'.format(maps_link)\n",
    "        out = []\n",
    "        for s in (all_prev + [state]):\n",
    "            out.append(\"{} ({} - {})\".format(url_ver(s.node.entity), s.start_dt.strftime(t_format), s.end_dt.strftime(t_format)))\n",
    "        res = \" => \".join(out)\n",
    "        display(HTML(res + \" \" + maps_link))\n",
    "        print()\n",
    "print_results(results)"
   ]
  },
  {
   "cell_type": "code",
   "execution_count": 76,
   "metadata": {
    "collapsed": false
   },
   "outputs": [
    {
     "ename": "IndexError",
     "evalue": "list index out of range",
     "output_type": "error",
     "traceback": [
      "\u001b[0;31m---------------------------------------------------------------------------\u001b[0m",
      "\u001b[0;31mIndexError\u001b[0m                                Traceback (most recent call last)",
      "\u001b[0;32m<ipython-input-76-cb3586ba8681>\u001b[0m in \u001b[0;36m<module>\u001b[0;34m()\u001b[0m\n\u001b[0;32m----> 1\u001b[0;31m \u001b[0mmeters_to_miles\u001b[0m\u001b[1;33m(\u001b[0m\u001b[0mG\u001b[0m\u001b[1;33m.\u001b[0m\u001b[0mget_edge_properties\u001b[0m\u001b[1;33m(\u001b[0m\u001b[0mresults\u001b[0m\u001b[1;33m[\u001b[0m\u001b[1;33m-\u001b[0m\u001b[1;36m1\u001b[0m\u001b[1;33m]\u001b[0m\u001b[1;33m.\u001b[0m\u001b[0mprev_state_list\u001b[0m\u001b[1;33m(\u001b[0m\u001b[1;33m)\u001b[0m\u001b[1;33m[\u001b[0m\u001b[1;36m0\u001b[0m\u001b[1;33m]\u001b[0m\u001b[1;33m.\u001b[0m\u001b[0mnode\u001b[0m\u001b[1;33m,\u001b[0m \u001b[0mresults\u001b[0m\u001b[1;33m[\u001b[0m\u001b[1;33m-\u001b[0m\u001b[1;36m1\u001b[0m\u001b[1;33m]\u001b[0m\u001b[1;33m.\u001b[0m\u001b[0mprev_state_list\u001b[0m\u001b[1;33m(\u001b[0m\u001b[1;33m)\u001b[0m\u001b[1;33m[\u001b[0m\u001b[1;36m1\u001b[0m\u001b[1;33m]\u001b[0m\u001b[1;33m.\u001b[0m\u001b[0mnode\u001b[0m\u001b[1;33m)\u001b[0m\u001b[1;33m[\u001b[0m\u001b[1;34m'dist'\u001b[0m\u001b[1;33m]\u001b[0m\u001b[1;33m)\u001b[0m\u001b[1;33m\u001b[0m\u001b[0m\n\u001b[0m",
      "\u001b[0;31mIndexError\u001b[0m: list index out of range"
     ]
    }
   ],
   "source": [
    "meters_to_miles(G.get_edge_properties(results[-1].prev_state_list()[0].node, results[-1].prev_state_list()[1].node)['dist'])"
   ]
  },
  {
   "cell_type": "code",
   "execution_count": 52,
   "metadata": {
    "collapsed": false
   },
   "outputs": [
    {
     "data": {
      "text/plain": [
       "'204 W 55th St New York, NY 10019'"
      ]
     },
     "execution_count": 52,
     "metadata": {},
     "output_type": "execute_result"
    }
   ],
   "source": [
    "results[0].node.get_address()"
   ]
  },
  {
   "cell_type": "code",
   "execution_count": 77,
   "metadata": {
    "collapsed": false
   },
   "outputs": [
    {
     "data": {
      "text/plain": [
       "98"
      ]
     },
     "execution_count": 77,
     "metadata": {},
     "output_type": "execute_result"
    }
   ],
   "source": []
  },
  {
   "cell_type": "code",
   "execution_count": null,
   "metadata": {
    "collapsed": true
   },
   "outputs": [],
   "source": []
  }
 ],
 "metadata": {
  "anaconda-cloud": {},
  "kernelspec": {
   "display_name": "Python [default]",
   "language": "python",
   "name": "python3"
  },
  "language_info": {
   "codemirror_mode": {
    "name": "ipython",
    "version": 3
   },
   "file_extension": ".py",
   "mimetype": "text/x-python",
   "name": "python",
   "nbconvert_exporter": "python",
   "pygments_lexer": "ipython3",
   "version": "3.5.2"
  }
 },
 "nbformat": 4,
 "nbformat_minor": 1
}
