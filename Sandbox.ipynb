{
 "cells": [
  {
   "cell_type": "code",
   "execution_count": 280,
   "metadata": {
    "collapsed": false
   },
   "outputs": [
    {
     "name": "stdout",
     "output_type": "stream",
     "text": [
      "The autoreload extension is already loaded. To reload it, use:\n",
      "  %reload_ext autoreload\n"
     ]
    }
   ],
   "source": [
    "%load_ext autoreload\n",
    "%autoreload 2\n",
    "\n",
    "from api.yelp.yelp import YelpAPI\n",
    "from algo import *\n",
    "from utils import *\n",
    "from constraints import *\n",
    "from plan import *\n",
    "import datetime\n",
    "import time"
   ]
  },
  {
   "cell_type": "code",
   "execution_count": 281,
   "metadata": {
    "collapsed": true
   },
   "outputs": [],
   "source": [
    "CAT_FILE = 'api/yelp/yelpcategories.json'\n",
    "with open('api/yelp/yelpkey.txt', 'r') as f:\n",
    "    API_KEY = f.read().strip()\n",
    "api = YelpAPI(API_KEY, CAT_FILE)"
   ]
  },
  {
   "cell_type": "code",
   "execution_count": 282,
   "metadata": {
    "collapsed": false
   },
   "outputs": [],
   "source": [
    "mex = api.business_search(location=\"97 5th Avenue, New York, NY 10003\", categories=['mexican'])\n",
    "\n",
    "cafe = api.business_search(location=\"97 5th Avenue, New York, NY 10003\", categories=['cafes'], add_parent_categories=True)\n",
    "\n",
    "movies = api.business_search(location=\"97 5th Avenue, New York, NY 10003\", categories=['movietheaters'], add_parent_categories=True)"
   ]
  },
  {
   "cell_type": "code",
   "execution_count": 300,
   "metadata": {
    "collapsed": false
   },
   "outputs": [
    {
     "data": {
      "text/plain": [
       "{'arts', 'movietheaters'}"
      ]
     },
     "execution_count": 300,
     "metadata": {},
     "output_type": "execute_result"
    }
   ],
   "source": [
    "movies['businesses'][1].categories"
   ]
  },
  {
   "cell_type": "code",
   "execution_count": 284,
   "metadata": {
    "collapsed": false
   },
   "outputs": [
    {
     "name": "stdout",
     "output_type": "stream",
     "text": [
      "Eataly 488.0897963313967 4.0\n",
      "Breads Bakery 143.50184336250797 4.5\n",
      "Union Square Cafe 338.7121222183838 4.0\n",
      "Daily Provisions 360.226374766106 4.5\n",
      "La Lanterna Di Vittorio 1059.0680563302228 4.0\n",
      "Brooklyn Bagel & Coffee Company 1041.7312658071687 4.0\n",
      "Café Grumpy 755.5983617867082 4.0\n",
      "The Bluebell Cafe 744.9626788474335 4.0\n",
      "Bao Bao Cafe 778.8511501315928 4.0\n",
      "Chobani SoHo 1560.9027955233576 4.5\n",
      "Maison Kayser 306.0148063621218 3.5\n",
      "Housing Works Bookstore Café 1529.2163434449587 4.5\n",
      "Cafe Hanamizuki 1063.000303549232 4.0\n",
      "Pasticceria Rocco 1197.2549664283115 4.0\n",
      "Le Baratin 743.0116623539029 4.0\n",
      "Patisserie Claude 1017.6984045553193 4.0\n",
      "Birch Coffee 704.3867642065566 4.0\n",
      "Outro 572.4780219339871 4.0\n",
      "Ninth Street Espresso 1289.5219751871368 4.0\n",
      "The Commons Chelsea 645.6914653519865 4.0\n"
     ]
    }
   ],
   "source": [
    "for b in cafe['businesses']:\n",
    "    print(b.name, b.distance, b.rating)"
   ]
  },
  {
   "cell_type": "code",
   "execution_count": 285,
   "metadata": {
    "collapsed": false
   },
   "outputs": [],
   "source": [
    "final_businesses = dedupe_list(mex['businesses'] + cafe['businesses'] + movies['businesses'], lambda x: x.id)\n",
    "details = []\n",
    "for biz in final_businesses:\n",
    "    details.append(api.business_details(biz.id))\n",
    "    time.sleep(0.1)"
   ]
  },
  {
   "cell_type": "code",
   "execution_count": 316,
   "metadata": {
    "collapsed": true
   },
   "outputs": [],
   "source": [
    "entities = []\n",
    "for detail in details:\n",
    "    entities.append(Entity(business=detail))"
   ]
  },
  {
   "cell_type": "code",
   "execution_count": 322,
   "metadata": {
    "collapsed": false
   },
   "outputs": [],
   "source": [
    "G = build_business_graph(entities, [[\"cafes\", \"mexican\", \"movietheaters\"], [\"cafes\", \"mexican\", \"movietheaters\"]], min_rating=3.0, max_distance=2000, min_dollar_signs=None, max_dollar_signs=None)"
   ]
  },
  {
   "cell_type": "code",
   "execution_count": 318,
   "metadata": {
    "collapsed": false
   },
   "outputs": [
    {
     "data": {
      "text/plain": [
       "(20, 20, 60)"
      ]
     },
     "execution_count": 318,
     "metadata": {},
     "output_type": "execute_result"
    }
   ],
   "source": [
    "len(cafe['businesses']), len(mex['businesses']), len(final_businesses)"
   ]
  },
  {
   "cell_type": "code",
   "execution_count": 319,
   "metadata": {
    "collapsed": false
   },
   "outputs": [],
   "source": [
    "def print_edge(G, nodeA, nodeB):\n",
    "    edge = G.get_edge_properties(nodeA, nodeB)\n",
    "    print(\"{0} ({1}) --> {2} ({3})  ({4})\".format(nodeA.entity.name, nodeA.entity.price, nodeB.entity.name, nodeB.entity.price, edge['dist']))"
   ]
  },
  {
   "cell_type": "code",
   "execution_count": 315,
   "metadata": {
    "collapsed": false
   },
   "outputs": [],
   "source": [
    "for n in G.nodes:\n",
    "    edges = G.get_edges(n)\n",
    "    for n2 in edges:\n",
    "        pass #print_edge(G, n, n2)"
   ]
  },
  {
   "cell_type": "code",
   "execution_count": null,
   "metadata": {
    "collapsed": false
   },
   "outputs": [],
   "source": []
  },
  {
   "cell_type": "code",
   "execution_count": null,
   "metadata": {
    "collapsed": false
   },
   "outputs": [],
   "source": []
  },
  {
   "cell_type": "code",
   "execution_count": 88,
   "metadata": {
    "collapsed": false
   },
   "outputs": [],
   "source": [
    "details = api.business_details(cafe['businesses'][0].id)"
   ]
  },
  {
   "cell_type": "code",
   "execution_count": 92,
   "metadata": {
    "collapsed": false
   },
   "outputs": [
    {
     "data": {
      "text/plain": [
       "[[{'end': datetime.time(23, 0),\n",
       "   'is_overnight': False,\n",
       "   'start': datetime.time(9, 0)}],\n",
       " [{'end': datetime.time(23, 0),\n",
       "   'is_overnight': False,\n",
       "   'start': datetime.time(9, 0)}],\n",
       " [{'end': datetime.time(23, 0),\n",
       "   'is_overnight': False,\n",
       "   'start': datetime.time(9, 0)}],\n",
       " [{'end': datetime.time(23, 0),\n",
       "   'is_overnight': False,\n",
       "   'start': datetime.time(9, 0)}],\n",
       " [{'end': datetime.time(23, 0),\n",
       "   'is_overnight': False,\n",
       "   'start': datetime.time(9, 0)}],\n",
       " [{'end': datetime.time(23, 0),\n",
       "   'is_overnight': False,\n",
       "   'start': datetime.time(9, 0)}],\n",
       " [{'end': datetime.time(23, 0),\n",
       "   'is_overnight': False,\n",
       "   'start': datetime.time(9, 0)}]]"
      ]
     },
     "execution_count": 92,
     "metadata": {},
     "output_type": "execute_result"
    }
   ],
   "source": [
    "details.hours"
   ]
  },
  {
   "cell_type": "code",
   "execution_count": null,
   "metadata": {
    "collapsed": false
   },
   "outputs": [],
   "source": []
  },
  {
   "cell_type": "code",
   "execution_count": null,
   "metadata": {
    "collapsed": false
   },
   "outputs": [],
   "source": []
  },
  {
   "cell_type": "code",
   "execution_count": 93,
   "metadata": {
    "collapsed": false
   },
   "outputs": [
    {
     "data": {
      "text/plain": [
       "True"
      ]
     },
     "execution_count": 93,
     "metadata": {},
     "output_type": "execute_result"
    }
   ],
   "source": [
    "x = time.strptime('1225', \"%H%M\")\n",
    "datetime.time(x.tm_hour, x.tm_min)\n",
    "\n",
    "datetime.datetime(2006, 11, 21, 16, 30).time() > datetime.time(x.tm_hour, x.tm_min)"
   ]
  },
  {
   "cell_type": "code",
   "execution_count": 94,
   "metadata": {
    "collapsed": false
   },
   "outputs": [
    {
     "data": {
      "text/plain": [
       "True"
      ]
     },
     "execution_count": 94,
     "metadata": {},
     "output_type": "execute_result"
    }
   ],
   "source": [
    "y = 4\n",
    "3 < y < 7"
   ]
  },
  {
   "cell_type": "code",
   "execution_count": 95,
   "metadata": {
    "collapsed": false
   },
   "outputs": [],
   "source": [
    "z = datetime.timedelta(seconds=1800)"
   ]
  },
  {
   "cell_type": "code",
   "execution_count": 96,
   "metadata": {
    "collapsed": false
   },
   "outputs": [
    {
     "data": {
      "text/plain": [
       "datetime.datetime(2006, 11, 21, 17, 0)"
      ]
     },
     "execution_count": 96,
     "metadata": {},
     "output_type": "execute_result"
    }
   ],
   "source": [
    "datetime.datetime(2006, 11, 21, 16, 30) + z"
   ]
  },
  {
   "cell_type": "code",
   "execution_count": 332,
   "metadata": {
    "collapsed": false
   },
   "outputs": [],
   "source": [
    "u = UberConstraints()\n",
    "b = BooleanConstraints()\n",
    "se = StateExtractors()\n",
    "sc = StateConstraints()\n",
    "ee = EdgeExtractors()\n",
    "seq_constraint = b.bool_and(\n",
    "    [\n",
    "        b.bool_less_than(se.get_attr(\"num_prev_states\"), se.const(3)),\n",
    "        u.follows_cat_sequence([set([x]) for x in [\"mexican\", \"movietheaters\", \"mexican\"]]),\n",
    "        b.bool_less_than(ee.get_distance(use_miles=True), se.const(0.3)),\n",
    "        sc.no_repeat_visits()\n",
    "    ]\n",
    ")\n",
    "\n",
    "def time_spent_fn(entity):\n",
    "    if \"movietheaters\" in entity.entity.categories:\n",
    "        return [datetime.timedelta(hours=3)]\n",
    "    return [datetime.timedelta(hours=1.5)]\n",
    "\n",
    "done_constraint = b.bool_equals(se.get_attr(\"num_prev_states\"), se.const(2))\n",
    "init_constraint = sc.curr_state_category_in(set([\"mexican\"]))\n",
    "\n",
    "date_start = datetime.datetime(2018, 12, 6, 18, 30)\n",
    "initial_states = build_initial_states(G, [date_start], init_constraint)\n",
    "\n",
    "neighbor_fn = build_neighbor_state_fn(seq_constraint, time_spent_fn=time_spent_fn)\n",
    "\n",
    "success_fn = build_success_state_fn(done_constraint)"
   ]
  },
  {
   "cell_type": "code",
   "execution_count": null,
   "metadata": {
    "collapsed": false
   },
   "outputs": [],
   "source": []
  },
  {
   "cell_type": "code",
   "execution_count": 333,
   "metadata": {
    "collapsed": false
   },
   "outputs": [],
   "source": [
    "results = list(generate_plans(G, initial_states, neighbor_fn, success_fn, None))"
   ]
  },
  {
   "cell_type": "code",
   "execution_count": 334,
   "metadata": {
    "collapsed": false
   },
   "outputs": [
    {
     "name": "stdout",
     "output_type": "stream",
     "text": [
      "DORADO Tacos & Quesadillas (06:30 PM - 08:00 PM) => Quad Cinema (08:03 PM - 11:03 PM) => Tortaria (11:07 PM - 12:37 AM)\n",
      "\n"
     ]
    }
   ],
   "source": [
    "def print_results(results):\n",
    "    # t_format = \"%m/%d/%y %B %Y %H:%M\"\n",
    "    t_format = \"%I:%M %p\"\n",
    "    for state in results:\n",
    "        all_prev = state.prev_state_list()\n",
    "        out = []\n",
    "        for s in (all_prev + [state]):\n",
    "            out.append(\"{} ({} - {})\".format(s.node.entity.name, s.start_dt.strftime(t_format), s.end_dt.strftime(t_format)))\n",
    "        print(\" => \".join(out))\n",
    "        print()\n",
    "print_results(results)"
   ]
  },
  {
   "cell_type": "code",
   "execution_count": 307,
   "metadata": {
    "collapsed": false
   },
   "outputs": [
    {
     "ename": "IndexError",
     "evalue": "list index out of range",
     "output_type": "error",
     "traceback": [
      "\u001b[0;31m---------------------------------------------------------------------------\u001b[0m",
      "\u001b[0;31mIndexError\u001b[0m                                Traceback (most recent call last)",
      "\u001b[0;32m<ipython-input-307-3dd4c5ea1c99>\u001b[0m in \u001b[0;36m<module>\u001b[0;34m()\u001b[0m\n\u001b[0;32m----> 1\u001b[0;31m \u001b[0mstate\u001b[0m \u001b[1;33m=\u001b[0m \u001b[0mresults\u001b[0m\u001b[1;33m[\u001b[0m\u001b[1;36m0\u001b[0m\u001b[1;33m]\u001b[0m\u001b[1;33m\u001b[0m\u001b[0m\n\u001b[0m\u001b[1;32m      2\u001b[0m \u001b[0mstate\u001b[0m\u001b[1;33m.\u001b[0m\u001b[0mprev_state_list\u001b[0m\u001b[1;33m(\u001b[0m\u001b[1;33m)\u001b[0m\u001b[1;33m\u001b[0m\u001b[0m\n\u001b[1;32m      3\u001b[0m \u001b[0mall_states\u001b[0m \u001b[1;33m=\u001b[0m \u001b[0mstate\u001b[0m\u001b[1;33m.\u001b[0m\u001b[0mprev_state_list\u001b[0m\u001b[1;33m(\u001b[0m\u001b[1;33m)\u001b[0m \u001b[1;33m+\u001b[0m \u001b[1;33m[\u001b[0m\u001b[0mstate\u001b[0m\u001b[1;33m]\u001b[0m\u001b[1;33m\u001b[0m\u001b[0m\n\u001b[1;32m      4\u001b[0m \u001b[0mprint\u001b[0m\u001b[1;33m(\u001b[0m\u001b[0mG\u001b[0m\u001b[1;33m.\u001b[0m\u001b[0mget_edge_properties\u001b[0m\u001b[1;33m(\u001b[0m\u001b[0mall_states\u001b[0m\u001b[1;33m[\u001b[0m\u001b[1;36m1\u001b[0m\u001b[1;33m]\u001b[0m\u001b[1;33m.\u001b[0m\u001b[0mnode\u001b[0m\u001b[1;33m,\u001b[0m \u001b[0mall_states\u001b[0m\u001b[1;33m[\u001b[0m\u001b[1;36m2\u001b[0m\u001b[1;33m]\u001b[0m\u001b[1;33m.\u001b[0m\u001b[0mnode\u001b[0m\u001b[1;33m)\u001b[0m\u001b[1;33m)\u001b[0m\u001b[1;33m\u001b[0m\u001b[0m\n",
      "\u001b[0;31mIndexError\u001b[0m: list index out of range"
     ]
    }
   ],
   "source": [
    "state = results[0]\n",
    "state.prev_state_list()\n",
    "all_states = state.prev_state_list() + [state]\n",
    "print(G.get_edge_properties(all_states[1].node, all_states[2].node))"
   ]
  },
  {
   "cell_type": "code",
   "execution_count": 246,
   "metadata": {
    "collapsed": false
   },
   "outputs": [],
   "source": [
    "initial_names = set([state.node.entity.name for state in initial])\n",
    "cafe_names = set([node.name for node in cafe['businesses']])"
   ]
  },
  {
   "cell_type": "code",
   "execution_count": 142,
   "metadata": {
    "collapsed": false
   },
   "outputs": [
    {
     "name": "stdout",
     "output_type": "stream",
     "text": [
      "2 20\n",
      "\n",
      "{'La Lanterna Di Vittorio', 'Pasticceria Rocco'}\n",
      "\n",
      "{'Daily Provisions', 'Breads Bakery', 'Eataly', 'Ninth Street Espresso', 'Birch Coffee', 'Le Baratin', 'Maison Kayser', 'Outro', 'Chobani SoHo', 'The Bluebell Cafe', 'Bao Bao Cafe', 'Union Square Cafe', 'Housing Works Bookstore Café', 'The Commons Chelsea', 'Cafe Hanamizuki', 'Patisserie Claude', 'Café Grumpy', 'Brooklyn Bagel & Coffee Company'}\n"
     ]
    }
   ],
   "source": [
    "print(len(initial_names), len(cafe_names))\n",
    "print()\n",
    "print(initial_names)\n",
    "print()\n",
    "print(cafe_names.difference(initial_names))"
   ]
  },
  {
   "cell_type": "code",
   "execution_count": 127,
   "metadata": {
    "collapsed": false
   },
   "outputs": [
    {
     "name": "stdout",
     "output_type": "stream",
     "text": [
      "Eataly a0IET3_yCFcO36OqGSsisg\n",
      "Breads Bakery mU23NlQfn1R9OhA6WMe_xg\n",
      "Union Square Cafe lXGCo-K7eftxRT_6E59-Iw\n",
      "Daily Provisions t4M1VX4n34eEgUWMJ7cgKw\n",
      "La Lanterna Di Vittorio V-FCEicobl5Su-R7EVJQNA\n",
      "Brooklyn Bagel & Coffee Company pb_ryc8FYHpUPV56eV2Eyg\n",
      "Café Grumpy IYDE89R_ETmVP1-e82Y_xQ\n",
      "The Bluebell Cafe 63nYipWuA42RZmESBMUNkQ\n",
      "Bao Bao Cafe ynIx549QFj29o84y1RSGyw\n",
      "Chobani SoHo z9sRnN1gPyxz9SJ52XDWoQ\n",
      "Maison Kayser bhO25n-KN55UrqSOAb9CUQ\n",
      "Housing Works Bookstore Café O4UeWRZLKuS3GRC4ELJRog\n",
      "Cafe Hanamizuki S-619sO8qSxQcis0DBHvNw\n",
      "Pasticceria Rocco JWLRT0dkdaC7AHtYapWbGw\n",
      "Le Baratin WoZnkXZInggzgQM_LbDpGg\n",
      "Patisserie Claude fvDZVAvv_g4L-WWkbDpCXg\n",
      "Birch Coffee cvETUmgjYfjcAgl54aWntA\n",
      "Outro IiLLntICUim7YREkIBU7lA\n",
      "Ninth Street Espresso JqIrbpx-gysImU1vUgULPw\n",
      "The Commons Chelsea 9BM1-Obd5Dr8pErgyBbQAQ\n"
     ]
    }
   ],
   "source": [
    "for c in cafe['businesses']:\n",
    "    print(c.name, c.id)"
   ]
  },
  {
   "cell_type": "code",
   "execution_count": 144,
   "metadata": {
    "collapsed": false
   },
   "outputs": [
    {
     "data": {
      "text/plain": [
       "<function algo.build_neighbor_state_fn.<locals>.neighbor_state_fn>"
      ]
     },
     "execution_count": 144,
     "metadata": {},
     "output_type": "execute_result"
    }
   ],
   "source": []
  },
  {
   "cell_type": "code",
   "execution_count": 156,
   "metadata": {
    "collapsed": false
   },
   "outputs": [
    {
     "data": {
      "text/plain": [
       "[]"
      ]
     },
     "execution_count": 156,
     "metadata": {},
     "output_type": "execute_result"
    }
   ],
   "source": []
  },
  {
   "cell_type": "code",
   "execution_count": null,
   "metadata": {
    "collapsed": true
   },
   "outputs": [],
   "source": []
  }
 ],
 "metadata": {
  "anaconda-cloud": {},
  "kernelspec": {
   "display_name": "Python [conda root]",
   "language": "python",
   "name": "conda-root-py"
  },
  "language_info": {
   "codemirror_mode": {
    "name": "ipython",
    "version": 3
   },
   "file_extension": ".py",
   "mimetype": "text/x-python",
   "name": "python",
   "nbconvert_exporter": "python",
   "pygments_lexer": "ipython3",
   "version": "3.5.2"
  }
 },
 "nbformat": 4,
 "nbformat_minor": 1
}
